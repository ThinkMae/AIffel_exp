{
 "cells": [
  {
   "cell_type": "markdown",
   "id": "christian-billion",
   "metadata": {},
   "source": [
    "# Minprj : news extraction\n",
    "\n",
    "> date : 04 nov 2021<br>\n",
    "> author : bae hueng myoung<br>\n",
    "> e-mail : naroo135@gmail.com<br>\n"
   ]
  },
  {
   "cell_type": "code",
   "execution_count": 119,
   "id": "preceding-madrid",
   "metadata": {},
   "outputs": [
    {
     "name": "stdout",
     "output_type": "stream",
     "text": [
      "=3\n"
     ]
    },
    {
     "name": "stderr",
     "output_type": "stream",
     "text": [
      "[nltk_data] Downloading package stopwords to /aiffel/nltk_data...\n",
      "[nltk_data]   Package stopwords is already up-to-date!\n"
     ]
    }
   ],
   "source": [
    "import nltk\n",
    "nltk.download('stopwords')\n",
    "\n",
    "import numpy as np\n",
    "import pandas as pd\n",
    "import os\n",
    "import re\n",
    "import matplotlib.pyplot as plt\n",
    "from nltk.corpus import stopwords\n",
    "from bs4 import BeautifulSoup \n",
    "from tensorflow.keras.preprocessing.text import Tokenizer \n",
    "from tensorflow.keras.preprocessing.sequence import pad_sequences\n",
    "import urllib.request\n",
    "\n",
    "print('=3')"
   ]
  },
  {
   "cell_type": "code",
   "execution_count": 120,
   "id": "fossil-laundry",
   "metadata": {},
   "outputs": [],
   "source": [
    "import pandas as pd"
   ]
  },
  {
   "cell_type": "code",
   "execution_count": 121,
   "id": "animated-table",
   "metadata": {},
   "outputs": [],
   "source": [
    "import urllib.request\n",
    "urllib.request.urlretrieve(\"https://raw.githubusercontent.com/sunnysai12345/News_Summary/master/news_summary_more.csv\", filename=\"news_summary_more.csv\")\n",
    "data = pd.read_csv('news_summary_more.csv', encoding='iso-8859-1')"
   ]
  },
  {
   "cell_type": "code",
   "execution_count": 122,
   "id": "attractive-numbers",
   "metadata": {},
   "outputs": [
    {
     "data": {
      "text/html": [
       "<div>\n",
       "<style scoped>\n",
       "    .dataframe tbody tr th:only-of-type {\n",
       "        vertical-align: middle;\n",
       "    }\n",
       "\n",
       "    .dataframe tbody tr th {\n",
       "        vertical-align: top;\n",
       "    }\n",
       "\n",
       "    .dataframe thead th {\n",
       "        text-align: right;\n",
       "    }\n",
       "</style>\n",
       "<table border=\"1\" class=\"dataframe\">\n",
       "  <thead>\n",
       "    <tr style=\"text-align: right;\">\n",
       "      <th></th>\n",
       "      <th>headlines</th>\n",
       "      <th>text</th>\n",
       "    </tr>\n",
       "  </thead>\n",
       "  <tbody>\n",
       "    <tr>\n",
       "      <th>64693</th>\n",
       "      <td>You supported Mersal, why not Indu Sarkar: Mad...</td>\n",
       "      <td>Filmmaker Madhur Bhandarkar, while questioning...</td>\n",
       "    </tr>\n",
       "    <tr>\n",
       "      <th>92751</th>\n",
       "      <td>Will give Ã¢ÂÂ¹10L only when Sonu fulfils all...</td>\n",
       "      <td>The Maulvi, who had issued a statement against...</td>\n",
       "    </tr>\n",
       "    <tr>\n",
       "      <th>35172</th>\n",
       "      <td>Statues of Ambedkar, other icons be put under ...</td>\n",
       "      <td>Union Minister of State for Social Justice Ram...</td>\n",
       "    </tr>\n",
       "    <tr>\n",
       "      <th>81810</th>\n",
       "      <td>Goa Congress man seeks permission to have wedd...</td>\n",
       "      <td>Goa Congress General Secretary Janardhan Bhand...</td>\n",
       "    </tr>\n",
       "    <tr>\n",
       "      <th>73108</th>\n",
       "      <td>Greater Noida to make compost across multiple ...</td>\n",
       "      <td>In order to treat solid waste at the point of ...</td>\n",
       "    </tr>\n",
       "    <tr>\n",
       "      <th>21351</th>\n",
       "      <td>Mallya asked to pay Ã¢ÂÂ¹1.5 crore more for b...</td>\n",
       "      <td>The London High Court has ordered Vijay Mallya...</td>\n",
       "    </tr>\n",
       "    <tr>\n",
       "      <th>7567</th>\n",
       "      <td>Indian diet about taste, overseas focus on nut...</td>\n",
       "      <td>Commonwealth Games gold medal-winning javelin ...</td>\n",
       "    </tr>\n",
       "    <tr>\n",
       "      <th>93424</th>\n",
       "      <td>Digital transactions rose 23 times in March po...</td>\n",
       "      <td>Digital transactions increased by nearly 23 ti...</td>\n",
       "    </tr>\n",
       "    <tr>\n",
       "      <th>96582</th>\n",
       "      <td>Hyd cops close case of Jain girl who died afte...</td>\n",
       "      <td>The Hyderabad Police has closed the case of Ar...</td>\n",
       "    </tr>\n",
       "    <tr>\n",
       "      <th>45041</th>\n",
       "      <td>Two held with charas worth Ã¢ÂÂ¹9 lakh at Mum...</td>\n",
       "      <td>Two people have been arrested at the Mumbai ai...</td>\n",
       "    </tr>\n",
       "  </tbody>\n",
       "</table>\n",
       "</div>"
      ],
      "text/plain": [
       "                                               headlines  \\\n",
       "64693  You supported Mersal, why not Indu Sarkar: Mad...   \n",
       "92751  Will give Ã¢ÂÂ¹10L only when Sonu fulfils all...   \n",
       "35172  Statues of Ambedkar, other icons be put under ...   \n",
       "81810  Goa Congress man seeks permission to have wedd...   \n",
       "73108  Greater Noida to make compost across multiple ...   \n",
       "21351  Mallya asked to pay Ã¢ÂÂ¹1.5 crore more for b...   \n",
       "7567   Indian diet about taste, overseas focus on nut...   \n",
       "93424  Digital transactions rose 23 times in March po...   \n",
       "96582  Hyd cops close case of Jain girl who died afte...   \n",
       "45041  Two held with charas worth Ã¢ÂÂ¹9 lakh at Mum...   \n",
       "\n",
       "                                                    text  \n",
       "64693  Filmmaker Madhur Bhandarkar, while questioning...  \n",
       "92751  The Maulvi, who had issued a statement against...  \n",
       "35172  Union Minister of State for Social Justice Ram...  \n",
       "81810  Goa Congress General Secretary Janardhan Bhand...  \n",
       "73108  In order to treat solid waste at the point of ...  \n",
       "21351  The London High Court has ordered Vijay Mallya...  \n",
       "7567   Commonwealth Games gold medal-winning javelin ...  \n",
       "93424  Digital transactions increased by nearly 23 ti...  \n",
       "96582  The Hyderabad Police has closed the case of Ar...  \n",
       "45041  Two people have been arrested at the Mumbai ai...  "
      ]
     },
     "execution_count": 122,
     "metadata": {},
     "output_type": "execute_result"
    }
   ],
   "source": [
    "data.sample(10)"
   ]
  },
  {
   "cell_type": "markdown",
   "id": "expected-estonia",
   "metadata": {},
   "source": [
    "# work(1) : preprocessing\n",
    "\n",
    "sample을 보면 특수기호와 대소문자가 결합되거나 missing data나 duplicate한 sentence가 있을 수 있다. 이러한 요소들은 모델 학습에 부정적 영향을 미치므로 전처리를 통해 모델의 성능을 높일 필요성이 있다. 따라서 중복되는 텍스트제거, 미싱데이터 제거, 노멀라이제이션, 스탑워즈 제거를통해 데이터의 전반적인 전처리과정을 수행하고 모델 학습에 필요한 샘플의 사이즈를 계산하여 토크나이징을 수행할 것이다."
   ]
  },
  {
   "cell_type": "markdown",
   "id": "documented-george",
   "metadata": {},
   "source": [
    "### work(1)-1 : remove duplicated text"
   ]
  },
  {
   "cell_type": "code",
   "execution_count": 123,
   "id": "ongoing-springfield",
   "metadata": {},
   "outputs": [
    {
     "data": {
      "text/plain": [
       "headlines    0\n",
       "text         0\n",
       "dtype: int64"
      ]
     },
     "execution_count": 123,
     "metadata": {},
     "output_type": "execute_result"
    }
   ],
   "source": [
    "data.isna().sum()"
   ]
  },
  {
   "cell_type": "code",
   "execution_count": 124,
   "id": "quantitative-excerpt",
   "metadata": {},
   "outputs": [
    {
     "data": {
      "text/plain": [
       "(98401, 2)"
      ]
     },
     "execution_count": 124,
     "metadata": {},
     "output_type": "execute_result"
    }
   ],
   "source": [
    "data.shape"
   ]
  },
  {
   "cell_type": "code",
   "execution_count": 125,
   "id": "satisfied-houston",
   "metadata": {},
   "outputs": [
    {
     "name": "stdout",
     "output_type": "stream",
     "text": [
      "not duplicated portion of headlines :  0.9987703376998202\n",
      "not duplicated portion of text:  0.9995833375677077\n"
     ]
    }
   ],
   "source": [
    "print(\"not duplicated portion of headlines : \", data['headlines'].nunique()/len(data))\n",
    "print(\"not duplicated portion of text: \", data['text'].nunique()/len(data))"
   ]
  },
  {
   "cell_type": "code",
   "execution_count": 126,
   "id": "global-stretch",
   "metadata": {},
   "outputs": [],
   "source": [
    "data.drop_duplicates(subset = ['text'], inplace = True)"
   ]
  },
  {
   "cell_type": "code",
   "execution_count": 127,
   "id": "elegant-subject",
   "metadata": {},
   "outputs": [
    {
     "data": {
      "text/plain": [
       "headlines    0\n",
       "text         0\n",
       "dtype: int64"
      ]
     },
     "execution_count": 127,
     "metadata": {},
     "output_type": "execute_result"
    }
   ],
   "source": [
    "data.isnull().sum()"
   ]
  },
  {
   "cell_type": "code",
   "execution_count": 128,
   "id": "prescription-anime",
   "metadata": {},
   "outputs": [
    {
     "name": "stdout",
     "output_type": "stream",
     "text": [
      "<class 'pandas.core.frame.DataFrame'>\n",
      "Int64Index: 98360 entries, 0 to 98400\n",
      "Data columns (total 2 columns):\n",
      " #   Column     Non-Null Count  Dtype \n",
      "---  ------     --------------  ----- \n",
      " 0   headlines  98360 non-null  object\n",
      " 1   text       98360 non-null  object\n",
      "dtypes: object(2)\n",
      "memory usage: 2.3+ MB\n"
     ]
    }
   ],
   "source": [
    "data.info()"
   ]
  },
  {
   "cell_type": "markdown",
   "id": "national-soccer",
   "metadata": {},
   "source": [
    "### work(1)-2 : text normalization"
   ]
  },
  {
   "cell_type": "code",
   "execution_count": 129,
   "id": "solid-divorce",
   "metadata": {},
   "outputs": [
    {
     "name": "stdout",
     "output_type": "stream",
     "text": [
      "정규화 사전의 수:  120\n"
     ]
    }
   ],
   "source": [
    "contractions = {\"ain't\": \"is not\", \"aren't\": \"are not\",\"can't\": \"cannot\", \"'cause\": \"because\", \"could've\": \"could have\", \"couldn't\": \"could not\",\n",
    "                           \"didn't\": \"did not\",  \"doesn't\": \"does not\", \"don't\": \"do not\", \"hadn't\": \"had not\", \"hasn't\": \"has not\", \"haven't\": \"have not\",\n",
    "                           \"he'd\": \"he would\",\"he'll\": \"he will\", \"he's\": \"he is\", \"how'd\": \"how did\", \"how'd'y\": \"how do you\", \"how'll\": \"how will\", \"how's\": \"how is\",\n",
    "                           \"I'd\": \"I would\", \"I'd've\": \"I would have\", \"I'll\": \"I will\", \"I'll've\": \"I will have\",\"I'm\": \"I am\", \"I've\": \"I have\", \"i'd\": \"i would\",\n",
    "                           \"i'd've\": \"i would have\", \"i'll\": \"i will\",  \"i'll've\": \"i will have\",\"i'm\": \"i am\", \"i've\": \"i have\", \"isn't\": \"is not\", \"it'd\": \"it would\",\n",
    "                           \"it'd've\": \"it would have\", \"it'll\": \"it will\", \"it'll've\": \"it will have\",\"it's\": \"it is\", \"let's\": \"let us\", \"ma'am\": \"madam\",\n",
    "                           \"mayn't\": \"may not\", \"might've\": \"might have\",\"mightn't\": \"might not\",\"mightn't've\": \"might not have\", \"must've\": \"must have\",\n",
    "                           \"mustn't\": \"must not\", \"mustn't've\": \"must not have\", \"needn't\": \"need not\", \"needn't've\": \"need not have\",\"o'clock\": \"of the clock\",\n",
    "                           \"oughtn't\": \"ought not\", \"oughtn't've\": \"ought not have\", \"shan't\": \"shall not\", \"sha'n't\": \"shall not\", \"shan't've\": \"shall not have\",\n",
    "                           \"she'd\": \"she would\", \"she'd've\": \"she would have\", \"she'll\": \"she will\", \"she'll've\": \"she will have\", \"she's\": \"she is\",\n",
    "                           \"should've\": \"should have\", \"shouldn't\": \"should not\", \"shouldn't've\": \"should not have\", \"so've\": \"so have\",\"so's\": \"so as\",\n",
    "                           \"this's\": \"this is\",\"that'd\": \"that would\", \"that'd've\": \"that would have\", \"that's\": \"that is\", \"there'd\": \"there would\",\n",
    "                           \"there'd've\": \"there would have\", \"there's\": \"there is\", \"here's\": \"here is\",\"they'd\": \"they would\", \"they'd've\": \"they would have\",\n",
    "                           \"they'll\": \"they will\", \"they'll've\": \"they will have\", \"they're\": \"they are\", \"they've\": \"they have\", \"to've\": \"to have\",\n",
    "                           \"wasn't\": \"was not\", \"we'd\": \"we would\", \"we'd've\": \"we would have\", \"we'll\": \"we will\", \"we'll've\": \"we will have\", \"we're\": \"we are\",\n",
    "                           \"we've\": \"we have\", \"weren't\": \"were not\", \"what'll\": \"what will\", \"what'll've\": \"what will have\", \"what're\": \"what are\",\n",
    "                           \"what's\": \"what is\", \"what've\": \"what have\", \"when's\": \"when is\", \"when've\": \"when have\", \"where'd\": \"where did\", \"where's\": \"where is\",\n",
    "                           \"where've\": \"where have\", \"who'll\": \"who will\", \"who'll've\": \"who will have\", \"who's\": \"who is\", \"who've\": \"who have\",\n",
    "                           \"why's\": \"why is\", \"why've\": \"why have\", \"will've\": \"will have\", \"won't\": \"will not\", \"won't've\": \"will not have\",\n",
    "                           \"would've\": \"would have\", \"wouldn't\": \"would not\", \"wouldn't've\": \"would not have\", \"y'all\": \"you all\",\n",
    "                           \"y'all'd\": \"you all would\",\"y'all'd've\": \"you all would have\",\"y'all're\": \"you all are\",\"y'all've\": \"you all have\",\n",
    "                           \"you'd\": \"you would\", \"you'd've\": \"you would have\", \"you'll\": \"you will\", \"you'll've\": \"you will have\",\n",
    "                           \"you're\": \"you are\", \"you've\": \"you have\"}\n",
    "\n",
    "print(\"정규화 사전의 수: \", len(contractions))"
   ]
  },
  {
   "cell_type": "markdown",
   "id": "accredited-machinery",
   "metadata": {},
   "source": [
    "### work(1)-3 : stopwords"
   ]
  },
  {
   "cell_type": "code",
   "execution_count": 130,
   "id": "surgical-uncertainty",
   "metadata": {},
   "outputs": [
    {
     "name": "stdout",
     "output_type": "stream",
     "text": [
      "불용어 개수 : 179\n",
      "['i', 'me', 'my', 'myself', 'we', 'our', 'ours', 'ourselves', 'you', \"you're\", \"you've\", \"you'll\", \"you'd\", 'your', 'yours', 'yourself', 'yourselves', 'he', 'him', 'his', 'himself', 'she', \"she's\", 'her', 'hers', 'herself', 'it', \"it's\", 'its', 'itself', 'they', 'them', 'their', 'theirs', 'themselves', 'what', 'which', 'who', 'whom', 'this', 'that', \"that'll\", 'these', 'those', 'am', 'is', 'are', 'was', 'were', 'be', 'been', 'being', 'have', 'has', 'had', 'having', 'do', 'does', 'did', 'doing', 'a', 'an', 'the', 'and', 'but', 'if', 'or', 'because', 'as', 'until', 'while', 'of', 'at', 'by', 'for', 'with', 'about', 'against', 'between', 'into', 'through', 'during', 'before', 'after', 'above', 'below', 'to', 'from', 'up', 'down', 'in', 'out', 'on', 'off', 'over', 'under', 'again', 'further', 'then', 'once', 'here', 'there', 'when', 'where', 'why', 'how', 'all', 'any', 'both', 'each', 'few', 'more', 'most', 'other', 'some', 'such', 'no', 'nor', 'not', 'only', 'own', 'same', 'so', 'than', 'too', 'very', 's', 't', 'can', 'will', 'just', 'don', \"don't\", 'should', \"should've\", 'now', 'd', 'll', 'm', 'o', 're', 've', 'y', 'ain', 'aren', \"aren't\", 'couldn', \"couldn't\", 'didn', \"didn't\", 'doesn', \"doesn't\", 'hadn', \"hadn't\", 'hasn', \"hasn't\", 'haven', \"haven't\", 'isn', \"isn't\", 'ma', 'mightn', \"mightn't\", 'mustn', \"mustn't\", 'needn', \"needn't\", 'shan', \"shan't\", 'shouldn', \"shouldn't\", 'wasn', \"wasn't\", 'weren', \"weren't\", 'won', \"won't\", 'wouldn', \"wouldn't\"]\n"
     ]
    }
   ],
   "source": [
    "print('불용어 개수 :', len(stopwords.words('english') ))\n",
    "print(stopwords.words('english'))"
   ]
  },
  {
   "cell_type": "code",
   "execution_count": 131,
   "id": "enormous-retailer",
   "metadata": {},
   "outputs": [],
   "source": [
    "# 데이터 전처리 함수\n",
    "def preprocess_sentence(sentence, remove_stopwords=True):\n",
    "    sentence = sentence.lower() # 텍스트 소문자화\n",
    "    sentence = BeautifulSoup(sentence, \"lxml\").text # <br />, <a href = ...> 등의 html 태그 제거\n",
    "    sentence = re.sub(r'\\([^)]*\\)', '', sentence) # 괄호로 닫힌 문자열 (...) 제거 Ex) my husband (and myself!) for => my husband for\n",
    "    sentence = re.sub('\"','', sentence) # 쌍따옴표 \" 제거\n",
    "    sentence = ' '.join([contractions[t] if t in contractions else t for t in sentence.split(\" \")]) # 약어 정규화\n",
    "    sentence = re.sub(r\"'s\\b\",\"\", sentence) # 소유격 제거. Ex) roland's -> roland\n",
    "    sentence = re.sub(\"[^a-zA-Z]\", \" \", sentence) # 영어 외 문자(숫자, 특수문자 등) 공백으로 변환\n",
    "    sentence = re.sub('[m]{2,}', 'mm', sentence) # m이 3개 이상이면 2개로 변경. Ex) ummmmmmm yeah -> umm yeah\n",
    "    \n",
    "    # 불용어 제거 (Text)\n",
    "    if remove_stopwords:\n",
    "        tokens = ' '.join(word for word in sentence.split() if not word in stopwords.words('english') if len(word) > 1)\n",
    "    # 불용어 미제거 (Summary)\n",
    "    else:\n",
    "        tokens = ' '.join(word for word in sentence.split() if len(word) > 1)\n",
    "    return tokens"
   ]
  },
  {
   "cell_type": "code",
   "execution_count": 132,
   "id": "manufactured-antenna",
   "metadata": {},
   "outputs": [
    {
     "data": {
      "text/plain": [
       "'care'"
      ]
     },
     "execution_count": 132,
     "metadata": {},
     "output_type": "execute_result"
    }
   ],
   "source": [
    "test_sample = \"i don't care about you <br>\"\n",
    "preprocess_sentence(test_sample)"
   ]
  },
  {
   "cell_type": "markdown",
   "id": "greatest-mongolia",
   "metadata": {},
   "source": [
    "#### 위의 전처리 함수를 이용하여 샘플을 넣어본 결과 스탑워즈를 잘 제거하는 모습을 보여준다. 이 작업은 대단히 많은 데이터를 처리해야하며 시간적 비용이 적지 않게 요구된다. 따라서 멀티프로세싱 방식으로 컴퓨팅 자원을 최대한 이용하여 시간을 단축하여 전처리 과정을 수행할 것이다."
   ]
  },
  {
   "cell_type": "code",
   "execution_count": 133,
   "id": "specified-registration",
   "metadata": {},
   "outputs": [
    {
     "name": "stdout",
     "output_type": "stream",
     "text": [
      "429.0742688179016  seconds\n",
      "['saurav kant alumnus upgrad iiit pg program machine learning artificial intelligence sr systems engineer infosys almost years work experience program upgrad degree career support helped transition data scientist tech mahindra salary hike upgrad online power learning powered lakh careers'\n",
      " 'kunal shah credit card bill payment platform cred gave users chance win free food swiggy one year pranav kaushik delhi techie bagged reward spending cred coins users get one cred coin per rupee bill paid used avail rewards brands like ixigo bookmyshow ubereats cult fit'\n",
      " 'new zealand defeated india wickets fourth odi hamilton thursday win first match five match odi series india lost international match rohit sharma captaincy consecutive victories dating back march match witnessed india getting seventh lowest total odi cricket history'\n",
      " ...\n",
      " 'according reports new version science fiction film matrix development michael jordan reportedly play lead role film screenwriter zak penn talks write script film reports added actor keanu reeves starred original film followed two sequels'\n",
      " 'new music video shows rapper snoop dogg aiming toy gun clown character parodying us president donald trump video also shows tv airing news conference headline ronald klump wants deport doggs airing live clown house video remixed version song lavender'\n",
      " 'madhesi morcha alliance seven political parties withdrawn support pm pushpa kamal dahal led nepal government failed meet seven day ultimatum fulfil demands including endorsement revised constitution amendment bill morcha seats parliament despite withdrawal support immediate threat government']\n",
      "12.569072961807251  seconds\n",
      "['upgrad learner switches to career in ml al with salary hike'\n",
      " 'delhi techie wins free food from swiggy for one year on cred'\n",
      " 'new zealand end rohit sharma led india match winning streak' ...\n",
      " 'the matrix film to get reboot reports'\n",
      " 'snoop dogg aims gun at clown dressed as trump in new video'\n",
      " 'madhesi morcha withdraws support to nepalese government']\n"
     ]
    }
   ],
   "source": [
    "import multiprocessing as mp   # 멀티 프로세싱으로 전처리 속도를 획기적으로 줄여봅시다\n",
    "from multiprocessing import Pool\n",
    "import numpy as np\n",
    "import time\n",
    "from functools import partial  # map을 할 때 함수에 여러 인자를 넣어줄 수 있도록 합니다\n",
    "\n",
    "start = time.time()\n",
    "\n",
    "# num_cores 만큼 쪼개진 데이터를 전처리하여 반환합니다\n",
    "def appendTexts(sentences, remove_stopwords):\n",
    "  texts = []\n",
    "  for s in sentences:\n",
    "    texts += preprocess_sentence(s, remove_stopwords),\n",
    "  return texts\n",
    "\n",
    "def preprocess_data(data, remove_stopwords=True):\n",
    "  start_time = time.time()\n",
    "  num_cores = mp.cpu_count()  # 컴퓨터의 코어 수를 구합니다\n",
    "\n",
    "  text_data_split = np.array_split(data, num_cores)  # 코어 수만큼 데이터를 배분하여 병렬적으로 처리할 수 있게 합니다\n",
    "  pool = Pool(num_cores)\n",
    "\n",
    "  processed_data = np.concatenate(pool.map(partial(appendTexts, remove_stopwords=remove_stopwords), text_data_split))  # 각자 작업한 데이터를 하나로 합쳐줍니다\n",
    "  pool.close()\n",
    "  pool.join()\n",
    "  print(time.time() - start_time, \" seconds\")\n",
    "  return processed_data\n",
    "\n",
    "clean_text = preprocess_data(data['text'])  # 클라우드 기준으로 3~4분 정도 소요 됩니다\n",
    "print(clean_text)\n",
    "\n",
    "clean_summary = preprocess_data(data['headlines'], remove_stopwords=False) # 클라우드 기준 1분정도 소요됩니다.\n",
    "print(clean_summary)"
   ]
  },
  {
   "cell_type": "code",
   "execution_count": 134,
   "id": "trying-antique",
   "metadata": {},
   "outputs": [],
   "source": [
    "data['text'] = clean_text\n",
    "data['headlines'] = clean_summary\n",
    "\n",
    "# 빈 값을 Null 값으로 변환\n",
    "data.replace('', np.nan, inplace=True)"
   ]
  },
  {
   "cell_type": "code",
   "execution_count": 135,
   "id": "selective-surgeon",
   "metadata": {},
   "outputs": [
    {
     "data": {
      "text/plain": [
       "headlines    0\n",
       "text         0\n",
       "dtype: int64"
      ]
     },
     "execution_count": 135,
     "metadata": {},
     "output_type": "execute_result"
    }
   ],
   "source": [
    "data.isnull().sum()"
   ]
  },
  {
   "cell_type": "markdown",
   "id": "generous-gallery",
   "metadata": {},
   "source": [
    "### work(2)-4 : assign data size"
   ]
  },
  {
   "cell_type": "code",
   "execution_count": 136,
   "id": "deluxe-quarter",
   "metadata": {},
   "outputs": [
    {
     "name": "stdout",
     "output_type": "stream",
     "text": [
      "텍스트의 최소 길이 : 1\n",
      "텍스트의 최대 길이 : 60\n",
      "텍스트의 평균 길이 : 35.09968483123221\n",
      "요약의 최소 길이 : 1\n",
      "요약의 최대 길이 : 16\n",
      "요약의 평균 길이 : 9.299532330215534\n"
     ]
    },
    {
     "data": {
      "image/png": "[encoded data removed]",
      "text/plain": [
       "<Figure size 432x288 with 2 Axes>"
      ]
     },
     "metadata": {
      "needs_background": "light"
     },
     "output_type": "display_data"
    },
    {
     "data": {
      "image/png": "[encoded data removed]",
      "text/plain": [
       "<Figure size 432x288 with 1 Axes>"
      ]
     },
     "metadata": {
      "needs_background": "light"
     },
     "output_type": "display_data"
    },
    {
     "data": {
      "image/png": "[encoded data removed]",
      "text/plain": [
       "<Figure size 432x288 with 1 Axes>"
      ]
     },
     "metadata": {
      "needs_background": "light"
     },
     "output_type": "display_data"
    }
   ],
   "source": [
    "# 길이 분포 출력\n",
    "import matplotlib.pyplot as plt\n",
    "\n",
    "text_len = [len(s.split()) for s in data['text']]\n",
    "summary_len = [len(s.split()) for s in data['headlines']]\n",
    "\n",
    "print('텍스트의 최소 길이 : {}'.format(np.min(text_len)))\n",
    "print('텍스트의 최대 길이 : {}'.format(np.max(text_len)))\n",
    "print('텍스트의 평균 길이 : {}'.format(np.mean(text_len)))\n",
    "print('요약의 최소 길이 : {}'.format(np.min(summary_len)))\n",
    "print('요약의 최대 길이 : {}'.format(np.max(summary_len)))\n",
    "print('요약의 평균 길이 : {}'.format(np.mean(summary_len)))\n",
    "\n",
    "plt.subplot(1,2,1)\n",
    "plt.boxplot(text_len)\n",
    "plt.title('text')\n",
    "plt.subplot(1,2,2)\n",
    "plt.boxplot(summary_len)\n",
    "plt.title('headlines')\n",
    "plt.tight_layout()\n",
    "plt.show()\n",
    "\n",
    "plt.title('text')\n",
    "plt.hist(text_len, bins = 40)\n",
    "plt.xlabel('length of samples')\n",
    "plt.ylabel('number of samples')\n",
    "plt.show()\n",
    "\n",
    "plt.title('headlines')\n",
    "plt.hist(summary_len, bins = 40)\n",
    "plt.xlabel('length of samples')\n",
    "plt.ylabel('number of samples')\n",
    "plt.show()"
   ]
  },
  {
   "cell_type": "markdown",
   "id": "viral-prague",
   "metadata": {},
   "source": [
    "#### 위의 결과를 보면 text는 평균길이에 가까울수록 높은 밀도를 보여주며 headline또한 평균길이에서 가장 높은 밀도를 보여준다. 이러한 결과를 볼 때 데이터의 분포는 넓게 퍼지지 않은 좁은 모양이며 서로 비슷한 사이즈의 데이터들이 많아모델 학습에 적합한 데이터의 사이즈는 평균보다 약간의 여유를 주어 산정해볼 것이다."
   ]
  },
  {
   "cell_type": "code",
   "execution_count": 137,
   "id": "endless-combination",
   "metadata": {},
   "outputs": [],
   "source": [
    "text_max_len = 42\n",
    "head_max_len = 12"
   ]
  },
  {
   "cell_type": "code",
   "execution_count": 138,
   "id": "dangerous-trading",
   "metadata": {},
   "outputs": [],
   "source": [
    "# verify valid data portion\n",
    "\n",
    "def below_threshold_len(max_len, nested_list):\n",
    "  cnt = 0\n",
    "  for s in nested_list:\n",
    "    if(len(s.split()) <= max_len):\n",
    "        cnt = cnt + 1\n",
    "  print('전체 샘플 중 길이가 %s 이하인 샘플의 비율: %s'%(max_len, (cnt / len(nested_list))))"
   ]
  },
  {
   "cell_type": "code",
   "execution_count": 139,
   "id": "opened-prospect",
   "metadata": {},
   "outputs": [
    {
     "name": "stdout",
     "output_type": "stream",
     "text": [
      "전체 샘플 중 길이가 42 이하인 샘플의 비율: 0.9750305002033347\n",
      "전체 샘플 중 길이가 12 이하인 샘플의 비율: 0.9880337535583571\n"
     ]
    }
   ],
   "source": [
    "below_threshold_len(text_max_len, data['text'])\n",
    "below_threshold_len(head_max_len,  data['headlines'])"
   ]
  },
  {
   "cell_type": "code",
   "execution_count": 140,
   "id": "phantom-brooklyn",
   "metadata": {},
   "outputs": [
    {
     "name": "stdout",
     "output_type": "stream",
     "text": [
      "전체 샘플수 : 94754\n"
     ]
    }
   ],
   "source": [
    "data = data[data['text'].apply(lambda x: len(x.split()) <= text_max_len)]\n",
    "data = data[data['headlines'].apply(lambda x: len(x.split()) <= head_max_len)]\n",
    "print('전체 샘플수 :', (len(data)))"
   ]
  },
  {
   "cell_type": "markdown",
   "id": "upper-persian",
   "metadata": {},
   "source": [
    "### work(1)-5: train/test split\n",
    "\n",
    "모델 학습에 필요한 트레인과 테스트를 20% 비율로 나누어 각 데이터들을 셔플(뒤섞음)을 통해 모델이 overfitting의 위험을 낮추고 학습률을 개선시키고자 한다."
   ]
  },
  {
   "cell_type": "code",
   "execution_count": 141,
   "id": "noble-thesaurus",
   "metadata": {},
   "outputs": [
    {
     "data": {
      "text/html": [
       "<div>\n",
       "<style scoped>\n",
       "    .dataframe tbody tr th:only-of-type {\n",
       "        vertical-align: middle;\n",
       "    }\n",
       "\n",
       "    .dataframe tbody tr th {\n",
       "        vertical-align: top;\n",
       "    }\n",
       "\n",
       "    .dataframe thead th {\n",
       "        text-align: right;\n",
       "    }\n",
       "</style>\n",
       "<table border=\"1\" class=\"dataframe\">\n",
       "  <thead>\n",
       "    <tr style=\"text-align: right;\">\n",
       "      <th></th>\n",
       "      <th>headlines</th>\n",
       "      <th>text</th>\n",
       "      <th>decoder_input</th>\n",
       "      <th>decoder_target</th>\n",
       "    </tr>\n",
       "  </thead>\n",
       "  <tbody>\n",
       "    <tr>\n",
       "      <th>0</th>\n",
       "      <td>upgrad learner switches to career in ml al wit...</td>\n",
       "      <td>saurav kant alumnus upgrad iiit pg program mac...</td>\n",
       "      <td>sostoken upgrad learner switches to career in ...</td>\n",
       "      <td>upgrad learner switches to career in ml al wit...</td>\n",
       "    </tr>\n",
       "    <tr>\n",
       "      <th>2</th>\n",
       "      <td>new zealand end rohit sharma led india match w...</td>\n",
       "      <td>new zealand defeated india wickets fourth odi ...</td>\n",
       "      <td>sostoken new zealand end rohit sharma led indi...</td>\n",
       "      <td>new zealand end rohit sharma led india match w...</td>\n",
       "    </tr>\n",
       "    <tr>\n",
       "      <th>3</th>\n",
       "      <td>aegon life iterm insurance plan helps customer...</td>\n",
       "      <td>aegon life iterm insurance plan customers enjo...</td>\n",
       "      <td>sostoken aegon life iterm insurance plan helps...</td>\n",
       "      <td>aegon life iterm insurance plan helps customer...</td>\n",
       "    </tr>\n",
       "    <tr>\n",
       "      <th>5</th>\n",
       "      <td>rahat fateh ali khan denies getting notice for...</td>\n",
       "      <td>pakistani singer rahat fateh ali khan denied r...</td>\n",
       "      <td>sostoken rahat fateh ali khan denies getting n...</td>\n",
       "      <td>rahat fateh ali khan denies getting notice for...</td>\n",
       "    </tr>\n",
       "    <tr>\n",
       "      <th>6</th>\n",
       "      <td>india get all out for their lowest odi total i...</td>\n",
       "      <td>india recorded lowest odi total new zealand ge...</td>\n",
       "      <td>sostoken india get all out for their lowest od...</td>\n",
       "      <td>india get all out for their lowest odi total i...</td>\n",
       "    </tr>\n",
       "  </tbody>\n",
       "</table>\n",
       "</div>"
      ],
      "text/plain": [
       "                                           headlines  \\\n",
       "0  upgrad learner switches to career in ml al wit...   \n",
       "2  new zealand end rohit sharma led india match w...   \n",
       "3  aegon life iterm insurance plan helps customer...   \n",
       "5  rahat fateh ali khan denies getting notice for...   \n",
       "6  india get all out for their lowest odi total i...   \n",
       "\n",
       "                                                text  \\\n",
       "0  saurav kant alumnus upgrad iiit pg program mac...   \n",
       "2  new zealand defeated india wickets fourth odi ...   \n",
       "3  aegon life iterm insurance plan customers enjo...   \n",
       "5  pakistani singer rahat fateh ali khan denied r...   \n",
       "6  india recorded lowest odi total new zealand ge...   \n",
       "\n",
       "                                       decoder_input  \\\n",
       "0  sostoken upgrad learner switches to career in ...   \n",
       "2  sostoken new zealand end rohit sharma led indi...   \n",
       "3  sostoken aegon life iterm insurance plan helps...   \n",
       "5  sostoken rahat fateh ali khan denies getting n...   \n",
       "6  sostoken india get all out for their lowest od...   \n",
       "\n",
       "                                      decoder_target  \n",
       "0  upgrad learner switches to career in ml al wit...  \n",
       "2  new zealand end rohit sharma led india match w...  \n",
       "3  aegon life iterm insurance plan helps customer...  \n",
       "5  rahat fateh ali khan denies getting notice for...  \n",
       "6  india get all out for their lowest odi total i...  "
      ]
     },
     "execution_count": 141,
     "metadata": {},
     "output_type": "execute_result"
    }
   ],
   "source": [
    "# 요약 데이터에는 시작 토큰과 종료 토큰을 추가한다.\n",
    "data['decoder_input'] = data['headlines'].apply(lambda x : 'sostoken '+ x)\n",
    "data['decoder_target'] = data['headlines'].apply(lambda x : x + ' eostoken')\n",
    "data.head()"
   ]
  },
  {
   "cell_type": "code",
   "execution_count": 142,
   "id": "dental-commodity",
   "metadata": {},
   "outputs": [],
   "source": [
    "# convert to np.array\n",
    "encoder_input = np.array(data['text']) # 인코더의 입력\n",
    "decoder_input = np.array(data['decoder_input']) # 디코더의 입력\n",
    "decoder_target = np.array(data['decoder_target']) # 디코더의 레이블"
   ]
  },
  {
   "cell_type": "code",
   "execution_count": 143,
   "id": "danish-latvia",
   "metadata": {},
   "outputs": [
    {
     "name": "stdout",
     "output_type": "stream",
     "text": [
      "[47442 51341 92372 ... 34132  7252  4982]\n"
     ]
    }
   ],
   "source": [
    "# convert to np.array\n",
    "indices = np.arange(encoder_input.shape[0])\n",
    "np.random.shuffle(indices)\n",
    "print(indices)"
   ]
  },
  {
   "cell_type": "code",
   "execution_count": 144,
   "id": "soviet-farmer",
   "metadata": {},
   "outputs": [],
   "source": [
    "encoder_input = encoder_input[indices]\n",
    "decoder_input = decoder_input[indices]\n",
    "decoder_target = decoder_target[indices]"
   ]
  },
  {
   "cell_type": "code",
   "execution_count": 145,
   "id": "meaning-satin",
   "metadata": {},
   "outputs": [
    {
     "name": "stdout",
     "output_type": "stream",
     "text": [
      "테스트 데이터의 수 : 18950\n"
     ]
    }
   ],
   "source": [
    "n_of_val = int(len(encoder_input)*0.2)\n",
    "print('테스트 데이터의 수 :', n_of_val)"
   ]
  },
  {
   "cell_type": "code",
   "execution_count": 146,
   "id": "related-discipline",
   "metadata": {},
   "outputs": [
    {
     "name": "stdout",
     "output_type": "stream",
     "text": [
      "훈련 데이터의 개수 : 75804\n",
      "훈련 레이블의 개수 : 75804\n",
      "테스트 데이터의 개수 : 18950\n",
      "테스트 레이블의 개수 : 18950\n"
     ]
    }
   ],
   "source": [
    "encoder_input_train = encoder_input[:-n_of_val]\n",
    "decoder_input_train = decoder_input[:-n_of_val]\n",
    "decoder_target_train = decoder_target[:-n_of_val]\n",
    "\n",
    "encoder_input_test = encoder_input[-n_of_val:]\n",
    "decoder_input_test = decoder_input[-n_of_val:]\n",
    "decoder_target_test = decoder_target[-n_of_val:]\n",
    "\n",
    "print('훈련 데이터의 개수 :', len(encoder_input_train))\n",
    "print('훈련 레이블의 개수 :', len(decoder_input_train))\n",
    "print('테스트 데이터의 개수 :', len(encoder_input_test))\n",
    "print('테스트 레이블의 개수 :', len(decoder_input_test))"
   ]
  },
  {
   "cell_type": "markdown",
   "id": "small-telephone",
   "metadata": {},
   "source": [
    "### work(1)-6-1 : toknizing in encoder\n",
    "\n",
    "단어의 빈도수를 고려해 낮은 빈도의 단어들을 제외하는 것이 더 머신러닝에 효과가 있을까라는 생각을 하게 되었다. 이제까지 nlp관련 머신러닝에 대한 lms들은 빈도수가 낮은 데이터를 제외하고 훈련을 지향해 왔으며 괜찮은 성능들을 보여주었다. 하지만 요약의 목적에 대해서 빈도수가 낮은 단어들이 매우 핵심적인 의미를 내포하고 있고 그것을 빈도수의 관점에서 제외시킨다면 괜찮은 요약 결과를 얻기 힘들것이다. exploration에서 진행했었던 요약은 매우 성능이 뒤쳐졌으며 요약의 성능이 6살 짜리 아이보다 못했다. 따라서 이번 프로젝트에서 빈도수가 낮다는 이유로 모델 학습에서 제외시키지 않도록 고안하였다."
   ]
  },
  {
   "cell_type": "code",
   "execution_count": 147,
   "id": "incomplete-convenience",
   "metadata": {},
   "outputs": [],
   "source": [
    "src_tokenizer = Tokenizer() # 토크나이저 정의\n",
    "src_tokenizer.fit_on_texts(encoder_input_train) # 입력된 데이터로부터 단어 집합 생성"
   ]
  },
  {
   "cell_type": "code",
   "execution_count": 148,
   "id": "integral-classroom",
   "metadata": {},
   "outputs": [
    {
     "name": "stdout",
     "output_type": "stream",
     "text": [
      "단어 집합(vocabulary)의 크기 : 67838\n",
      "등장 빈도가 6번 이하인 희귀 단어의 수: 46158\n",
      "단어 집합에서 희귀 단어를 제외시킬 경우의 단어 집합의 크기 21680\n",
      "단어 집합에서 희귀 단어의 비율: 68.04151065774344\n",
      "전체 등장 빈도에서 희귀 단어 등장 빈도 비율: 3.546896517553312\n"
     ]
    }
   ],
   "source": [
    "threshold = 7\n",
    "total_cnt = len(src_tokenizer.word_index) # 단어의 수\n",
    "rare_cnt = 0 # 등장 빈도수가 threshold보다 작은 단어의 개수를 카운트\n",
    "total_freq = 0 # 훈련 데이터의 전체 단어 빈도수 총 합\n",
    "rare_freq = 0 # 등장 빈도수가 threshold보다 작은 단어의 등장 빈도수의 총 합\n",
    "\n",
    "# 단어와 빈도수의 쌍(pair)을 key와 value로 받는다.\n",
    "for key, value in src_tokenizer.word_counts.items():\n",
    "    total_freq = total_freq + value\n",
    "\n",
    "    # 단어의 등장 빈도수가 threshold보다 작으면\n",
    "    if(value < threshold):\n",
    "        rare_cnt = rare_cnt + 1\n",
    "        rare_freq = rare_freq + value\n",
    "\n",
    "print('단어 집합(vocabulary)의 크기 :', total_cnt)\n",
    "print('등장 빈도가 %s번 이하인 희귀 단어의 수: %s'%(threshold - 1, rare_cnt))\n",
    "print('단어 집합에서 희귀 단어를 제외시킬 경우의 단어 집합의 크기 %s'%(total_cnt - rare_cnt))\n",
    "print(\"단어 집합에서 희귀 단어의 비율:\", (rare_cnt / total_cnt)*100)\n",
    "print(\"전체 등장 빈도에서 희귀 단어 등장 빈도 비율:\", (rare_freq / total_freq)*100)"
   ]
  },
  {
   "cell_type": "code",
   "execution_count": 149,
   "id": "fundamental-senior",
   "metadata": {},
   "outputs": [],
   "source": [
    "\n",
    "src_vocab = 20000\n",
    "src_tokenizer = Tokenizer(num_words=src_vocab) \n",
    "src_tokenizer.fit_on_texts(encoder_input_train) "
   ]
  },
  {
   "cell_type": "code",
   "execution_count": 150,
   "id": "thirty-detector",
   "metadata": {},
   "outputs": [
    {
     "name": "stdout",
     "output_type": "stream",
     "text": [
      "[[25, 407, 1306, 908, 177, 1319, 141, 4541, 6898, 569, 4014, 34, 164, 407, 2838, 978, 9068, 6614, 244, 134, 4387, 2646, 2839, 246, 10474, 4014, 34, 379, 214, 657], [54, 2285, 2248, 13, 103, 836, 355, 70, 1351, 25, 3, 3585, 52, 128, 208, 2014, 70, 1351, 79, 70, 1691, 89, 70, 1096, 355, 155, 276, 2209, 25, 3, 3585, 54, 10, 67, 20, 298, 580, 128, 44], [604, 69, 421, 444, 512, 3220, 14453, 2556, 637, 411, 421, 512, 1837, 744, 6692, 89, 7552, 1182, 1433, 411, 59, 104, 512, 1341, 623, 1464, 1923, 1909, 730, 281, 2015, 473, 3489]]\n"
     ]
    }
   ],
   "source": [
    "# 텍스트 시퀀스를 정수 시퀀스로 변환\n",
    "encoder_input_train = src_tokenizer.texts_to_sequences(encoder_input_train) \n",
    "encoder_input_test = src_tokenizer.texts_to_sequences(encoder_input_test)\n",
    "\n",
    "# 잘 진행되었는지 샘플 출력\n",
    "print(encoder_input_train[:3])"
   ]
  },
  {
   "cell_type": "code",
   "execution_count": 151,
   "id": "romance-sheet",
   "metadata": {},
   "outputs": [],
   "source": [
    "tar_tokenizer = Tokenizer()\n",
    "tar_tokenizer.fit_on_texts(decoder_input_train)"
   ]
  },
  {
   "cell_type": "markdown",
   "id": "sufficient-potential",
   "metadata": {},
   "source": [
    "### work(1)-6-2 : toknizing in decoder"
   ]
  },
  {
   "cell_type": "code",
   "execution_count": 152,
   "id": "occupational-profit",
   "metadata": {},
   "outputs": [
    {
     "name": "stdout",
     "output_type": "stream",
     "text": [
      "단어 집합(vocabulary)의 크기 : 29614\n",
      "등장 빈도가 5번 이하인 희귀 단어의 수: 19384\n",
      "단어 집합에서 희귀 단어를 제외시킬 경우의 단어 집합의 크기 10230\n",
      "단어 집합에서 희귀 단어의 비율: 65.45552779090971\n",
      "전체 등장 빈도에서 희귀 단어 등장 빈도 비율: 4.773833445540196\n"
     ]
    }
   ],
   "source": [
    "threshold = 6       # frequency of words\n",
    "total_cnt = len(tar_tokenizer.word_index) # 단어의 수\n",
    "rare_cnt = 0 # 등장 빈도수가 threshold보다 작은 단어의 개수를 카운트\n",
    "total_freq = 0 # 훈련 데이터의 전체 단어 빈도수 총 합\n",
    "rare_freq = 0 # 등장 빈도수가 threshold보다 작은 단어의 등장 빈도수의 총 합\n",
    "\n",
    "# 단어와 빈도수의 쌍(pair)을 key와 value로 받는다.\n",
    "for key, value in tar_tokenizer.word_counts.items():\n",
    "    total_freq = total_freq + value\n",
    "\n",
    "    # 단어의 등장 빈도수가 threshold보다 작으면\n",
    "    if(value < threshold):\n",
    "        rare_cnt = rare_cnt + 1\n",
    "        rare_freq = rare_freq + value\n",
    "\n",
    "print('단어 집합(vocabulary)의 크기 :', total_cnt)\n",
    "print('등장 빈도가 %s번 이하인 희귀 단어의 수: %s'%(threshold - 1, rare_cnt))\n",
    "print('단어 집합에서 희귀 단어를 제외시킬 경우의 단어 집합의 크기 %s'%(total_cnt - rare_cnt))\n",
    "print(\"단어 집합에서 희귀 단어의 비율:\", (rare_cnt / total_cnt)*100)\n",
    "print(\"전체 등장 빈도에서 희귀 단어 등장 빈도 비율:\", (rare_freq / total_freq)*100)"
   ]
  },
  {
   "cell_type": "code",
   "execution_count": 153,
   "id": "characteristic-layout",
   "metadata": {},
   "outputs": [
    {
     "name": "stdout",
     "output_type": "stream",
     "text": [
      "input\n",
      "input  [[1, 348, 13, 398, 400, 393, 2495, 20, 263], [1, 401, 795, 187, 415, 2059, 7, 36, 39, 2686], [1, 1171, 726, 416, 1369, 341, 239, 2496], [1, 4560, 14, 1561, 4, 209, 57, 4, 9], [1, 71, 6, 363, 73, 4, 181, 2999, 320]]\n",
      "target\n",
      "decoder  [[348, 13, 398, 400, 393, 2495, 20, 263, 2], [401, 795, 187, 415, 2059, 7, 36, 39, 2686, 2], [1171, 726, 416, 1369, 341, 239, 2496, 2], [4560, 14, 1561, 4, 209, 57, 4, 9, 2], [71, 6, 363, 73, 4, 181, 2999, 320, 2]]\n"
     ]
    }
   ],
   "source": [
    "tar_vocab = 10000\n",
    "tar_tokenizer = Tokenizer(num_words=tar_vocab) \n",
    "tar_tokenizer.fit_on_texts(decoder_input_train)\n",
    "tar_tokenizer.fit_on_texts(decoder_target_train)\n",
    "\n",
    "# 텍스트 시퀀스를 정수 시퀀스로 변환\n",
    "decoder_input_train = tar_tokenizer.texts_to_sequences(decoder_input_train) \n",
    "decoder_target_train = tar_tokenizer.texts_to_sequences(decoder_target_train)\n",
    "decoder_input_test = tar_tokenizer.texts_to_sequences(decoder_input_test)\n",
    "decoder_target_test = tar_tokenizer.texts_to_sequences(decoder_target_test)\n",
    "\n",
    "# 잘 변환되었는지 확인\n",
    "print('input')\n",
    "print('input ',decoder_input_train[:5])\n",
    "print('target')\n",
    "print('decoder ',decoder_target_train[:5])"
   ]
  },
  {
   "cell_type": "code",
   "execution_count": 154,
   "id": "raising-performance",
   "metadata": {},
   "outputs": [],
   "source": [
    "encoder_input_train = pad_sequences(encoder_input_train, maxlen=text_max_len, padding='pre')\n",
    "encoder_input_test = pad_sequences(encoder_input_test, maxlen=text_max_len, padding='pre')\n",
    "decoder_input_train = pad_sequences(decoder_input_train, maxlen=head_max_len, padding='pre')\n",
    "decoder_target_train = pad_sequences(decoder_target_train, maxlen=head_max_len, padding='pre')\n",
    "decoder_input_test = pad_sequences(decoder_input_test, maxlen=head_max_len, padding='pre')\n",
    "decoder_target_test = pad_sequences(decoder_target_test, maxlen=head_max_len, padding='pre')"
   ]
  },
  {
   "cell_type": "code",
   "execution_count": 155,
   "id": "occupied-monitoring",
   "metadata": {},
   "outputs": [
    {
     "data": {
      "text/plain": [
       "(75804, 12)"
      ]
     },
     "execution_count": 155,
     "metadata": {},
     "output_type": "execute_result"
    }
   ],
   "source": [
    "decoder_input_train.shape"
   ]
  },
  {
   "cell_type": "markdown",
   "id": "removed-flesh",
   "metadata": {},
   "source": [
    "## work(2) : model desgin"
   ]
  },
  {
   "cell_type": "code",
   "execution_count": 156,
   "id": "latest-grill",
   "metadata": {},
   "outputs": [
    {
     "name": "stdout",
     "output_type": "stream",
     "text": [
      "WARNING:tensorflow:Layer lstm_4 will not use cuDNN kernel since it doesn't meet the cuDNN kernel criteria. It will use generic GPU kernel as fallback when running on GPU\n",
      "WARNING:tensorflow:Layer lstm_5 will not use cuDNN kernel since it doesn't meet the cuDNN kernel criteria. It will use generic GPU kernel as fallback when running on GPU\n",
      "WARNING:tensorflow:Layer lstm_6 will not use cuDNN kernel since it doesn't meet the cuDNN kernel criteria. It will use generic GPU kernel as fallback when running on GPU\n"
     ]
    }
   ],
   "source": [
    "from tensorflow.keras.layers import Input, LSTM, Embedding, Dense, Concatenate\n",
    "from tensorflow.keras.models import Model\n",
    "from tensorflow.keras.callbacks import EarlyStopping, ModelCheckpoint\n",
    "\n",
    "\n",
    "# 인코더 설계 시작\n",
    "embedding_dim = 128\n",
    "hidden_size = 256\n",
    "\n",
    "# 인코더\n",
    "encoder_inputs = Input(shape=(text_max_len,))\n",
    "\n",
    "# 인코더의 임베딩 층\n",
    "enc_emb = Embedding(src_vocab, embedding_dim)(encoder_inputs)\n",
    "\n",
    "# 인코더의 LSTM 1\n",
    "encoder_lstm1 = LSTM(hidden_size, return_sequences=True, return_state=True ,dropout = 0.4, recurrent_dropout = 0.4)\n",
    "encoder_output1, state_h1, state_c1 = encoder_lstm1(enc_emb)\n",
    "\n",
    "# 인코더의 LSTM 2\n",
    "encoder_lstm2 = LSTM(hidden_size, return_sequences=True, return_state=True, dropout=0.4, recurrent_dropout=0.4)\n",
    "encoder_output2, state_h2, state_c2 = encoder_lstm2(encoder_output1)\n",
    "\n",
    "# 인코더의 LSTM 3\n",
    "encoder_lstm3 = LSTM(hidden_size, return_state=True, return_sequences=True, dropout=0.4, recurrent_dropout=0.4)\n",
    "encoder_outputs, state_h, state_c= encoder_lstm3(encoder_output2)"
   ]
  },
  {
   "cell_type": "code",
   "execution_count": 157,
   "id": "spread-quality",
   "metadata": {},
   "outputs": [
    {
     "name": "stdout",
     "output_type": "stream",
     "text": [
      "WARNING:tensorflow:Layer lstm_7 will not use cuDNN kernel since it doesn't meet the cuDNN kernel criteria. It will use generic GPU kernel as fallback when running on GPU\n"
     ]
    }
   ],
   "source": [
    "# 디코더 설계\n",
    "decoder_inputs = Input(shape=(None,))\n",
    "\n",
    "# 디코더의 임베딩 층\n",
    "dec_emb_layer = Embedding(tar_vocab, embedding_dim)\n",
    "dec_emb = dec_emb_layer(decoder_inputs)\n",
    "\n",
    "# 디코더의 LSTM\n",
    "decoder_lstm = LSTM(hidden_size, return_sequences=True, return_state=True, dropout=0.4, recurrent_dropout=0.2)\n",
    "decoder_outputs, _, _ = decoder_lstm(dec_emb, initial_state=[state_h, state_c])"
   ]
  },
  {
   "cell_type": "code",
   "execution_count": 158,
   "id": "characteristic-location",
   "metadata": {},
   "outputs": [
    {
     "name": "stdout",
     "output_type": "stream",
     "text": [
      "Model: \"model_2\"\n",
      "__________________________________________________________________________________________________\n",
      "Layer (type)                    Output Shape         Param #     Connected to                     \n",
      "==================================================================================================\n",
      "input_3 (InputLayer)            [(None, 42)]         0                                            \n",
      "__________________________________________________________________________________________________\n",
      "embedding_2 (Embedding)         (None, 42, 128)      2560000     input_3[0][0]                    \n",
      "__________________________________________________________________________________________________\n",
      "lstm_4 (LSTM)                   [(None, 42, 256), (N 394240      embedding_2[0][0]                \n",
      "__________________________________________________________________________________________________\n",
      "input_4 (InputLayer)            [(None, None)]       0                                            \n",
      "__________________________________________________________________________________________________\n",
      "lstm_5 (LSTM)                   [(None, 42, 256), (N 525312      lstm_4[0][0]                     \n",
      "__________________________________________________________________________________________________\n",
      "embedding_3 (Embedding)         (None, None, 128)    1280000     input_4[0][0]                    \n",
      "__________________________________________________________________________________________________\n",
      "lstm_6 (LSTM)                   [(None, 42, 256), (N 525312      lstm_5[0][0]                     \n",
      "__________________________________________________________________________________________________\n",
      "lstm_7 (LSTM)                   [(None, None, 256),  394240      embedding_3[0][0]                \n",
      "                                                                 lstm_6[0][1]                     \n",
      "                                                                 lstm_6[0][2]                     \n",
      "__________________________________________________________________________________________________\n",
      "dense_2 (Dense)                 (None, None, 10000)  2570000     lstm_7[0][0]                     \n",
      "==================================================================================================\n",
      "Total params: 8,249,104\n",
      "Trainable params: 8,249,104\n",
      "Non-trainable params: 0\n",
      "__________________________________________________________________________________________________\n"
     ]
    }
   ],
   "source": [
    "# 디코더의 출력층\n",
    "decoder_softmax_layer = Dense(tar_vocab, activation='softmax')\n",
    "decoder_softmax_outputs = decoder_softmax_layer(decoder_outputs) \n",
    "\n",
    "# 모델 정의\n",
    "model = Model([encoder_inputs, decoder_inputs], decoder_softmax_outputs)\n",
    "model.summary()"
   ]
  },
  {
   "cell_type": "code",
   "execution_count": 159,
   "id": "closed-camera",
   "metadata": {},
   "outputs": [],
   "source": [
    "urllib.request.urlretrieve(\"https://raw.githubusercontent.com/thushv89/attention_keras/master/src/layers/attention.py\", filename=\"attention.py\")\n",
    "from attention import AttentionLayer"
   ]
  },
  {
   "cell_type": "code",
   "execution_count": 160,
   "id": "short-console",
   "metadata": {},
   "outputs": [
    {
     "name": "stdout",
     "output_type": "stream",
     "text": [
      "Model: \"model_3\"\n",
      "__________________________________________________________________________________________________\n",
      "Layer (type)                    Output Shape         Param #     Connected to                     \n",
      "==================================================================================================\n",
      "input_3 (InputLayer)            [(None, 42)]         0                                            \n",
      "__________________________________________________________________________________________________\n",
      "embedding_2 (Embedding)         (None, 42, 128)      2560000     input_3[0][0]                    \n",
      "__________________________________________________________________________________________________\n",
      "lstm_4 (LSTM)                   [(None, 42, 256), (N 394240      embedding_2[0][0]                \n",
      "__________________________________________________________________________________________________\n",
      "input_4 (InputLayer)            [(None, None)]       0                                            \n",
      "__________________________________________________________________________________________________\n",
      "lstm_5 (LSTM)                   [(None, 42, 256), (N 525312      lstm_4[0][0]                     \n",
      "__________________________________________________________________________________________________\n",
      "embedding_3 (Embedding)         (None, None, 128)    1280000     input_4[0][0]                    \n",
      "__________________________________________________________________________________________________\n",
      "lstm_6 (LSTM)                   [(None, 42, 256), (N 525312      lstm_5[0][0]                     \n",
      "__________________________________________________________________________________________________\n",
      "lstm_7 (LSTM)                   [(None, None, 256),  394240      embedding_3[0][0]                \n",
      "                                                                 lstm_6[0][1]                     \n",
      "                                                                 lstm_6[0][2]                     \n",
      "__________________________________________________________________________________________________\n",
      "attention_layer (AttentionLayer ((None, None, 256),  131328      lstm_6[0][0]                     \n",
      "                                                                 lstm_7[0][0]                     \n",
      "__________________________________________________________________________________________________\n",
      "concat_layer (Concatenate)      (None, None, 512)    0           lstm_7[0][0]                     \n",
      "                                                                 attention_layer[0][0]            \n",
      "__________________________________________________________________________________________________\n",
      "dense_3 (Dense)                 (None, None, 10000)  5130000     concat_layer[0][0]               \n",
      "==================================================================================================\n",
      "Total params: 10,940,432\n",
      "Trainable params: 10,940,432\n",
      "Non-trainable params: 0\n",
      "__________________________________________________________________________________________________\n"
     ]
    }
   ],
   "source": [
    "# 어텐션 층(어텐션 함수)\n",
    "attn_layer = AttentionLayer(name='attention_layer')\n",
    "# 인코더와 디코더의 모든 time step의 hidden state를 어텐션 층에 전달하고 결과를 리턴\n",
    "attn_out, attn_states = attn_layer([encoder_outputs, decoder_outputs])\n",
    "\n",
    "# 어텐션의 결과와 디코더의 hidden state들을 연결\n",
    "decoder_concat_input = Concatenate(axis=-1, name='concat_layer')([decoder_outputs, attn_out])\n",
    "\n",
    "# 디코더의 출력층\n",
    "decoder_softmax_layer = Dense(tar_vocab, activation='softmax')\n",
    "decoder_softmax_outputs = decoder_softmax_layer(decoder_concat_input)\n",
    "\n",
    "# 모델 정의\n",
    "model = Model([encoder_inputs, decoder_inputs], decoder_softmax_outputs)\n",
    "model.summary()"
   ]
  },
  {
   "cell_type": "markdown",
   "id": "warming-exchange",
   "metadata": {},
   "source": [
    "## work(3) ; model training"
   ]
  },
  {
   "cell_type": "code",
   "execution_count": 161,
   "id": "falling-database",
   "metadata": {
    "scrolled": false
   },
   "outputs": [
    {
     "name": "stdout",
     "output_type": "stream",
     "text": [
      "Epoch 1/50\n",
      "297/297 [==============================] - 236s 757ms/step - loss: 5.9583 - val_loss: 5.2272\n",
      "Epoch 2/50\n",
      "297/297 [==============================] - 222s 748ms/step - loss: 5.2572 - val_loss: 5.1606\n",
      "Epoch 3/50\n",
      "297/297 [==============================] - 222s 749ms/step - loss: 5.1311 - val_loss: 4.9903\n",
      "Epoch 4/50\n",
      "297/297 [==============================] - 221s 745ms/step - loss: 4.9756 - val_loss: 4.8711\n",
      "Epoch 5/50\n",
      "297/297 [==============================] - 222s 749ms/step - loss: 4.8304 - val_loss: 4.7757\n",
      "Epoch 6/50\n",
      "297/297 [==============================] - 224s 754ms/step - loss: 4.7134 - val_loss: 4.6908\n",
      "Epoch 7/50\n",
      "297/297 [==============================] - 225s 757ms/step - loss: 4.6157 - val_loss: 4.6123\n",
      "Epoch 8/50\n",
      "297/297 [==============================] - 225s 759ms/step - loss: 4.5263 - val_loss: 4.5539\n",
      "Epoch 9/50\n",
      "297/297 [==============================] - 225s 758ms/step - loss: 4.4567 - val_loss: 4.5184\n",
      "Epoch 10/50\n",
      "297/297 [==============================] - 225s 757ms/step - loss: 4.3892 - val_loss: 4.5225\n",
      "Epoch 11/50\n",
      "297/297 [==============================] - 225s 758ms/step - loss: 4.3450 - val_loss: 4.4539\n",
      "Epoch 12/50\n",
      "297/297 [==============================] - 225s 757ms/step - loss: 4.2789 - val_loss: 4.3978\n",
      "Epoch 13/50\n",
      "297/297 [==============================] - 225s 758ms/step - loss: 4.2035 - val_loss: 4.3355\n",
      "Epoch 14/50\n",
      "297/297 [==============================] - 224s 755ms/step - loss: 4.1312 - val_loss: 4.2983\n",
      "Epoch 15/50\n",
      "297/297 [==============================] - 225s 757ms/step - loss: 4.0544 - val_loss: 4.2489\n",
      "Epoch 16/50\n",
      "297/297 [==============================] - 224s 755ms/step - loss: 3.9873 - val_loss: 4.1839\n",
      "Epoch 17/50\n",
      "297/297 [==============================] - 224s 755ms/step - loss: 3.9167 - val_loss: 4.1339\n",
      "Epoch 18/50\n",
      "297/297 [==============================] - 224s 755ms/step - loss: 3.8459 - val_loss: 4.1019\n",
      "Epoch 19/50\n",
      "297/297 [==============================] - 225s 757ms/step - loss: 3.7749 - val_loss: 4.0684\n",
      "Epoch 20/50\n",
      "297/297 [==============================] - 224s 755ms/step - loss: 3.7141 - val_loss: 4.0319\n",
      "Epoch 21/50\n",
      "297/297 [==============================] - 225s 757ms/step - loss: 3.6424 - val_loss: 3.9762\n",
      "Epoch 22/50\n",
      "297/297 [==============================] - 225s 756ms/step - loss: 3.5692 - val_loss: 3.9192\n",
      "Epoch 23/50\n",
      "297/297 [==============================] - 225s 759ms/step - loss: 3.5025 - val_loss: 3.9043\n",
      "Epoch 24/50\n",
      "297/297 [==============================] - 225s 757ms/step - loss: 3.4318 - val_loss: 3.8356\n",
      "Epoch 25/50\n",
      "297/297 [==============================] - 225s 759ms/step - loss: 3.3595 - val_loss: 3.7936\n",
      "Epoch 26/50\n",
      "297/297 [==============================] - 225s 757ms/step - loss: 3.3003 - val_loss: 3.7830\n",
      "Epoch 27/50\n",
      "297/297 [==============================] - 225s 759ms/step - loss: 3.2422 - val_loss: 3.7467\n",
      "Epoch 28/50\n",
      "297/297 [==============================] - 225s 757ms/step - loss: 3.1845 - val_loss: 3.7228\n",
      "Epoch 29/50\n",
      "297/297 [==============================] - 225s 759ms/step - loss: 3.1363 - val_loss: 3.7112\n",
      "Epoch 30/50\n",
      "297/297 [==============================] - 225s 758ms/step - loss: 3.0888 - val_loss: 3.7063\n",
      "Epoch 31/50\n",
      "297/297 [==============================] - 226s 760ms/step - loss: 3.0392 - val_loss: 3.6607\n",
      "Epoch 32/50\n",
      "297/297 [==============================] - 225s 759ms/step - loss: 2.9954 - val_loss: 3.6696\n",
      "Epoch 33/50\n",
      "297/297 [==============================] - 225s 758ms/step - loss: 2.9568 - val_loss: 3.6602\n",
      "Epoch 34/50\n",
      "297/297 [==============================] - 224s 755ms/step - loss: 2.9102 - val_loss: 3.6516\n",
      "Epoch 35/50\n",
      "297/297 [==============================] - 225s 756ms/step - loss: 2.8755 - val_loss: 3.6169\n",
      "Epoch 36/50\n",
      "297/297 [==============================] - 225s 756ms/step - loss: 2.8403 - val_loss: 3.6121\n",
      "Epoch 37/50\n",
      "297/297 [==============================] - 225s 759ms/step - loss: 2.8063 - val_loss: 3.6082\n",
      "Epoch 38/50\n",
      "297/297 [==============================] - 225s 759ms/step - loss: 2.7612 - val_loss: 3.6010\n",
      "Epoch 39/50\n",
      "297/297 [==============================] - 225s 759ms/step - loss: 2.7300 - val_loss: 3.5952\n",
      "Epoch 40/50\n",
      "297/297 [==============================] - 225s 756ms/step - loss: 2.6979 - val_loss: 3.6184\n",
      "Epoch 41/50\n",
      "297/297 [==============================] - 225s 759ms/step - loss: 2.6722 - val_loss: 3.5984\n",
      "Epoch 00041: early stopping\n"
     ]
    }
   ],
   "source": [
    "model.compile(optimizer='rmsprop', loss='sparse_categorical_crossentropy')\n",
    "es = EarlyStopping(monitor='val_loss', patience=2, verbose=1)\n",
    "history = model.fit(x=[encoder_input_train, decoder_input_train], y=decoder_target_train, \\\n",
    "          validation_data=([encoder_input_test, decoder_input_test], decoder_target_test), \\\n",
    "          batch_size=256, callbacks=[es], epochs=50)"
   ]
  },
  {
   "cell_type": "code",
   "execution_count": 162,
   "id": "built-material",
   "metadata": {},
   "outputs": [
    {
     "data": {
      "image/png": "[encoded data removed]",
      "text/plain": [
       "<Figure size 432x288 with 1 Axes>"
      ]
     },
     "metadata": {
      "needs_background": "light"
     },
     "output_type": "display_data"
    }
   ],
   "source": [
    "plt.plot(history.history['loss'], label='train')\n",
    "plt.plot(history.history['val_loss'], label='test')\n",
    "plt.legend()\n",
    "plt.show()"
   ]
  },
  {
   "cell_type": "markdown",
   "id": "choice-dialogue",
   "metadata": {},
   "source": [
    "## work(4) : inference modeling"
   ]
  },
  {
   "cell_type": "code",
   "execution_count": 164,
   "id": "valid-captain",
   "metadata": {},
   "outputs": [],
   "source": [
    "src_index_to_word = src_tokenizer.index_word # 원문 단어 집합에서 정수 -> 단어를 얻음\n",
    "tar_word_to_index = tar_tokenizer.word_index # 요약 단어 집합에서 단어 -> 정수를 얻음\n",
    "tar_index_to_word = tar_tokenizer.index_word # 요약 단어 집합에서 정수 -> 단어를 얻음"
   ]
  },
  {
   "cell_type": "code",
   "execution_count": 165,
   "id": "challenging-aaron",
   "metadata": {},
   "outputs": [],
   "source": [
    "# 인코더 설계\n",
    "encoder_model = Model(inputs=encoder_inputs, outputs=[encoder_outputs, state_h, state_c])\n",
    "\n",
    "# 이전 시점의 상태들을 저장하는 텐서\n",
    "decoder_state_input_h = Input(shape=(hidden_size,))\n",
    "decoder_state_input_c = Input(shape=(hidden_size,))\n",
    "\n",
    "dec_emb2 = dec_emb_layer(decoder_inputs)\n",
    "\n",
    "# 문장의 다음 단어를 예측하기 위해서 초기 상태(initial_state)를 이전 시점의 상태로 사용. 이는 뒤의 함수 decode_sequence()에 구현\n",
    "# 훈련 과정에서와 달리 LSTM의 리턴하는 은닉 상태와 셀 상태인 state_h와 state_c를 버리지 않음.\n",
    "decoder_outputs2, state_h2, state_c2 = decoder_lstm(dec_emb2, initial_state=[decoder_state_input_h, decoder_state_input_c])"
   ]
  },
  {
   "cell_type": "code",
   "execution_count": 166,
   "id": "greatest-nomination",
   "metadata": {},
   "outputs": [],
   "source": [
    "# 어텐션 함수\n",
    "decoder_hidden_state_input = Input(shape=(text_max_len, hidden_size))\n",
    "attn_out_inf, attn_states_inf = attn_layer([decoder_hidden_state_input, decoder_outputs2])\n",
    "decoder_inf_concat = Concatenate(axis=-1, name='concat')([decoder_outputs2, attn_out_inf])\n",
    "\n",
    "# 디코더의 출력층\n",
    "decoder_outputs2 = decoder_softmax_layer(decoder_inf_concat) \n",
    "\n",
    "# 최종 디코더 모델\n",
    "decoder_model = Model(\n",
    "    [decoder_inputs] + [decoder_hidden_state_input,decoder_state_input_h, decoder_state_input_c],\n",
    "    [decoder_outputs2] + [state_h2, state_c2])"
   ]
  },
  {
   "cell_type": "code",
   "execution_count": 170,
   "id": "eligible-stone",
   "metadata": {},
   "outputs": [],
   "source": [
    "def decode_sequence(input_seq):\n",
    "    # 입력으로부터 인코더의 상태를 얻음\n",
    "    e_out, e_h, e_c = encoder_model.predict(input_seq)\n",
    "\n",
    "     # <SOS>에 해당하는 토큰 생성\n",
    "    target_seq = np.zeros((1,1))\n",
    "    target_seq[0, 0] = tar_word_to_index['sostoken']\n",
    "\n",
    "    stop_condition = False\n",
    "    decoded_sentence = ''\n",
    "    while not stop_condition: # stop_condition이 True가 될 때까지 루프 반복\n",
    "\n",
    "        output_tokens, h, c = decoder_model.predict([target_seq] + [e_out, e_h, e_c])\n",
    "        sampled_token_index = np.argmax(output_tokens[0, -1, :])\n",
    "        sampled_token = tar_index_to_word[sampled_token_index]\n",
    "\n",
    "        if (sampled_token!='eostoken'):\n",
    "            decoded_sentence += ' '+sampled_token\n",
    "\n",
    "        #  <eos>에 도달하거나 최대 길이를 넘으면 중단.\n",
    "        if (sampled_token == 'eostoken'  or len(decoded_sentence.split()) >= (head_max_len-1)):\n",
    "            stop_condition = True\n",
    "\n",
    "        # 길이가 1인 타겟 시퀀스를 업데이트\n",
    "        target_seq = np.zeros((1,1))\n",
    "        target_seq[0, 0] = sampled_token_index\n",
    "\n",
    "        # 상태를 업데이트 합니다.\n",
    "        e_h, e_c = h, c\n",
    "\n",
    "    return decoded_sentence"
   ]
  },
  {
   "cell_type": "markdown",
   "id": "wireless-mercury",
   "metadata": {},
   "source": [
    "## work(5) : model test"
   ]
  },
  {
   "cell_type": "code",
   "execution_count": 171,
   "id": "political-margin",
   "metadata": {},
   "outputs": [],
   "source": [
    "# 원문의 정수 시퀀스를 텍스트 시퀀스로 변환\n",
    "def seq2text(input_seq):\n",
    "    temp=''\n",
    "    for i in input_seq:\n",
    "        if (i!=0):\n",
    "            temp = temp + src_index_to_word[i]+' '\n",
    "    return temp\n",
    "\n",
    "# 요약문의 정수 시퀀스를 텍스트 시퀀스로 변환\n",
    "def seq2summary(input_seq):\n",
    "    temp=''\n",
    "    for i in input_seq:\n",
    "        if ((i!=0 and i!=tar_word_to_index['sostoken']) and i!=tar_word_to_index['eostoken']):\n",
    "            temp = temp + tar_index_to_word[i] + ' '\n",
    "    return temp"
   ]
  },
  {
   "cell_type": "code",
   "execution_count": 172,
   "id": "designed-graph",
   "metadata": {},
   "outputs": [
    {
     "name": "stdout",
     "output_type": "stream",
     "text": [
      "원문 : video surfaced online shows block development officer uttar pradesh allegedly driving car nearly km youth bonnet reportedly youth onto bonnet attempt stop leaving group villagers visited demanding instalments construction toilets \n",
      "실제 요약 : up govt official drives for km as man on to \n",
      "예측 요약 :  drunk man beaten up to get morphed selfie with drunk driving\n",
      "\n",
      "\n",
      "원문 : ranbir kapoor speaking drinking habit said tendency drink lot start stop guess blood family fond alcohol yes genes drink added ranbir earlier said working drink anything \n",
      "실제 요약 : cannot stop once start ranbir on his drinking \n",
      "예측 요약 :  do not want to do anything ranbir on ludhiana nepotism ranbir\n",
      "\n",
      "\n",
      "원문 : income tax appellate tribunal ruled favour flipkart crore tax demand case rejected tax department argument discounts given flipkart capital expenditure flipkart claimed marketing expenses incurred yearly sell products thus revenues leading losses \n",
      "실제 요약 : tribunal rules in favour of flipkart in crore tax case \n",
      "예측 요약 :  govt to pay crore to pay for tax on flipkart deal\n",
      "\n",
      "\n",
      "원문 : year old woman maharashtra allegedly strangled month old son death buried help lover fearing child might lead problems lover woman decided kill baby reports said woman eloped lover baby remained father \n",
      "실제 요약 : woman buries month old son with help of lover \n",
      "예측 요약 :  woman kills mother of heart body on suspicion of refusing refusing\n",
      "\n",
      "\n",
      "원문 : twitter released list top hashtag trends india entertainment section list features fantasy drama baahubali conclusion television reality show bigg boss tamil film mersal reportedly generated million tweets three days also featured microblogging site top hashtag trends list \n",
      "실제 요약 : baahubali among india top twitter hashtag trends in \n",
      "예측 요약 :  india to host its first ftii comedian of thrones show reports\n",
      "\n",
      "\n",
      "원문 : bjp worker arrested allegedly sharing obscene posts west bengal cm mamata banerjee morphed images social media also shared morphed image odisha cm naveen patnaik banerjee entire west bengal see happen girl get married right age post read \n",
      "실제 요약 : bjp worker held for sharing morphed pics of mamata banerjee \n",
      "예측 요약 :  bjp leader posts video of fake news on cm mamata visit\n",
      "\n",
      "\n",
      "원문 : ending speech confidence motion debate lok sabha friday congress president rahul gandhi went hugged prime minister narendra modi rahul way pm seat lok sabha speaker sumitra mahajan said necessary meanwhile hug congress president seen winking fellow party mps \n",
      "실제 요약 : watch rahul hugs pm modi speaker says it is not necessary \n",
      "예측 요약 :  pm modi will be part of trust motion in polls rahul\n",
      "\n",
      "\n",
      "원문 : nasa mit researchers studying mercury closest planet sun said expanding orbit suggests weakening gravitational pull sun ages loses mass however researchers noted factors impacting mercury orbit may include einstein theory general relativity sun gravity also sun interior structure dynamics \n",
      "실제 요약 : changes in orbit reveal an ageing sun nasa mit \n",
      "예측 요약 :  study finds black hole on black hole in planet orbiting planets\n",
      "\n",
      "\n",
      "원문 : american model chrissy teigen recently asked american airlines could carry emotional support flight tweeting please help teigen added okay following american airlines transportation security administration responded teigen later tweeted picture potato dish captioning made \n",
      "실제 요약 : model requests to carry emotional support food on plane \n",
      "예측 요약 :  we are not going to me at our plane jimmy slams\n",
      "\n",
      "\n",
      "원문 : landfill delhi ghazipur area reached height metres eight metres shorter metre high qutub minar landfill metres higher prescribed limit metres spread across acres contains least million tonnes waste \n",
      "실제 요약 : delhi garbage dump now only metres than \n",
      "예측 요약 :  delhi zoo to cut off hrs due to lightning in delhi\n",
      "\n",
      "\n",
      "원문 : commander us fleet forces command admiral philip davidson warned us congress imposing sanctions india purchasing defence equipment russia davidson said move pose concern us defence ties indo pacific said move could increase dependence us partners russia \n",
      "실제 요약 : us congress warned against sanctions on india \n",
      "예측 요약 :  us will not allow any talks with us sanctions us envoy\n",
      "\n",
      "\n",
      "원문 : seven year old boy died maharashtra district bomb initially failed go accidentally burst mouth police said boy bursting crackers friends ahead diwali picked firecracker exploded thinking lit however bit went \n",
      "실제 요약 : year old dies in maharashtra after firecracker bursts in mouth \n",
      "예측 요약 :  year old dies after being hit by seniors in maha building\n",
      "\n",
      "\n",
      "원문 : former infosys cfo balakrishnan wednesday favoured bringing nandan nilekani chairman company saying experience understanding clients made good face lead said nilekani join chairman try identify good ceo also asserted current chairman seshasayee needs step \n",
      "실제 요약 : nandan nilekani good face to lead ex infosys cfo \n",
      "예측 요약 :  infosys to hire former cfo as he is not an economist\n",
      "\n",
      "\n",
      "원문 : iran islamic revolutionary guard corps reportedly using new route ship arms houthi rebels yemen reportedly using waters gulf kuwait iran escape arms embargo targetting houthi rebels iran supports shi ite houthi rebels yemen civil war saudi backed yemeni government \n",
      "실제 요약 : iran finds new routes to smuggle weapons to rebels \n",
      "예측 요약 :  iran to build its st magnitude tunnel in yemen war reports\n",
      "\n",
      "\n",
      "원문 : talking first ever tour england brian lara said viv richards threw keys car gifted towards sat passenger seat knew roads england lara revealed delivering mcc spirit cricket lecture lord cricket ground london \n",
      "실제 요약 : brian lara recalls the time he became viv richards driver \n",
      "예측 요약 :  player jumps off field to bat on field to save ball\n",
      "\n",
      "\n",
      "원문 : pm narendra modi announced ex gratia lakh families indians killed iraq announcement follows protests parliament demanding financial aid victims families meanwhile punjab announced compensation lakh families people state killed isis \n",
      "실제 요약 : pm announces ex gratia to kin of indians killed in iraq \n",
      "예측 요약 :  pm modi to be used to families of crpf martyrs families\n",
      "\n",
      "\n",
      "원문 : traffic policeman haryana rohtak slapped girl allegedly harassing two riding shared auto girl returning class cop allegedly started phone number police said accused suspended probe launched \n",
      "실제 요약 : girl returning from class slaps cop for harassing her \n",
      "예측 요약 :  drunk cop stabbed to death for raping minor girl in mumbai\n",
      "\n",
      "\n",
      "원문 : government basic customs duty relief materials imported abroad kerala flood victims also extended last date filing gstr month july october kerala least people died due floods lakh relief camps \n",
      "실제 요약 : relief goods for kerala exempted from customs duty \n",
      "예측 요약 :  kerala govt to give flood relief for kerala flood hit kerala\n",
      "\n",
      "\n",
      "원문 : canada ontario passed law allows government take away children families accept kid chosen gender identity gender expression law parents earlier right direct child education religious upbringing approved vote \n",
      "실제 요약 : to seize children if parents oppose gender identity \n",
      "예측 요약 :  canada jail for women to be harassing women in gender neutral\n",
      "\n",
      "\n",
      "원문 : tv actress divyanka tripathi husband tv actor vivek dahiya crew horror show attacked shoot drunk men swords miscreants later arrested making wonder kind security measures taken outdoor locations four security guards first run said dahiya \n",
      "실제 요약 : divyanka husband attacked by drunk armed men during shoot \n",
      "예측 요약 :  tv actress slams us over tv show her on tv show\n",
      "\n",
      "\n",
      "원문 : india best ever test bowling figures registered narendra making test debut match celebrating th birthday today year old achieved feat west indies match kiran became first wicketkeeper tests effect five stumpings innings \n",
      "실제 요약 : india best test bowling figures came on player debut \n",
      "예측 요약 :  india beat sl to register th test ton in test series\n",
      "\n",
      "\n",
      "원문 : thin film power group founder former chairman li barred serving director board company hong kong eight years came hong kong court ruled involved misconduct related running company four directors also issued bans varying \n",
      "실제 요약 : hong kong energy firm founder given year director ban \n",
      "예측 요약 :  goldman sachs ceo resigns after ceo quits over ceo of tata\n",
      "\n",
      "\n",
      "원문 : external affairs minister sushma swaraj tied rakhi vice president venkaiah naidu occasion rakshabandhan sunday convey warm greetings best wishes auspicious occasion rakshabandhan naidu said occasion president ram nath kovind prime minister narendra modi also wished nation earlier day \n",
      "실제 요약 : sushma swaraj ties rakhi to vice president venkaiah naidu \n",
      "예측 요약 :  swaraj to be named as chief as president of ram rahim\n",
      "\n",
      "\n",
      "원문 : five time olympic gold medallist dana compete metre freestyle race usa swimming pro series meet next month six months pregnant expecting second child revealed instagram started dreams competitions following decided compete golds olympics \n",
      "실제 요약 : months pregnant time olympic champ to compete in race \n",
      "예측 요약 :  sahara swimmer to be auctioned for nd time in one minute\n",
      "\n",
      "\n",
      "원문 : restaurant owner relative written pm narendra modi president ram nath kovind seeking inquiry central bureau investigation kamala mills fire incident mumbai last week owners restaurant also accused police biased destroying evidence favour owners mojo bistro \n",
      "실제 요약 : above owner kin seeks cbi probe in kamala mills fire \n",
      "예측 요약 :  pm modi pays lakh to pay for pm modi in mumbai\n",
      "\n",
      "\n",
      "원문 : shilpa shetty claimed faced racism staff qantas airways australia added one staff members spoke brown people called half empty bag sent check another counter must know rude tolerated shilpa wrote instagram \n",
      "실제 요약 : shilpa shetty claims facing racism in australia by qantas airways \n",
      "예측 요약 :  we are not doing business by men kapil on tanushree row\n",
      "\n",
      "\n",
      "원문 : regulatory policy passed delhi government reportedly proposed fine cab aggregators like ola uber least refusing trips also states file police complaint molestation misconduct cases reported passengers fine lakh imposed fail \n",
      "실제 요약 : policy proposes fine to ola uber for refusing rides \n",
      "예측 요약 :  delhi bound ola flyer who took hrs to flyer fined lakh\n",
      "\n",
      "\n",
      "원문 : afghanistan sunday celebrated th independence day president ashraf ghani laying independence pay tributes security forces lost lives afghanistan gained independence british empire leadership shah khan signing anglo afghan treaty \n",
      "실제 요약 : afghanistan celebrates its th independence day \n",
      "예측 요약 :  afghanistan to be held for st time in afghan presidential polls\n",
      "\n",
      "\n",
      "원문 : hospital haryana faridabad charged lakh day treatment pregnant woman died hospital demanding probe hospital woman family said fever shifted icu said later said submitted lakh far added \n",
      "실제 요약 : yana hospital charges lakh for pregnant woman who died \n",
      "예측 요약 :  woman body found in hospital after patient gives birth in hospital\n",
      "\n",
      "\n",
      "원문 : trains delhi metro blue line delayed tuesday speed restriction imposed due periodic maintenance could completed following heavy rains temporary speed restrictions removed track department finishes maintenance night said official commuters said trains arrived minutes half hour \n",
      "실제 요약 : delay on delhi metro blue line due to speed restrictions \n",
      "예측 요약 :  delhi metro to get new metro line in line to delhi\n",
      "\n",
      "\n",
      "원문 : delhi cm arvind kejriwal friday said fulfilling promises made farmers pm narendra modi stabbed backs kejriwal claimed centre filed affidavit supreme court stating cannot implement swaminathan commission report demand centre implement report else farmers elections added \n",
      "실제 요약 : pm modi has stabbed farmers in their backs kejriwal \n",
      "예측 요약 :  pm modi is not to be pm modi on kerala cm\n",
      "\n",
      "\n",
      "원문 : telecom regulatory authority india monday rolled new website lets users compare telecom tariffs offered different service providers portal www tariff trai gov beta phase trai currently made tariff data available delhi circle sought user feedback new site \n",
      "실제 요약 : trai unveils new website for comparing telcos tariffs \n",
      "예측 요약 :  trai to launch ai to use ai to track users report\n",
      "\n",
      "\n",
      "원문 : election commission india monday announced setting voter awareness forums ministries government departments non government departments institutions promote electoral awareness forums would generate awareness electoral process activities like discussions quizzes part electoral literacy club programme \n",
      "실제 요약 : ec to set up voter awareness to \n",
      "예측 요약 :  ec to set up polls to connect voter ids in ls\n",
      "\n",
      "\n",
      "원문 : producer ekta kapoor praising actors kangana ranaut rajkummar rao said always taken road less travelled played characters emotionally physically challenging added ekta said artistes hungry something different identify drive \n",
      "실제 요약 : kangana rao have always taken the road less travelled ekta \n",
      "예측 요약 :  do not want to do anything to do not know ekta\n",
      "\n",
      "\n",
      "원문 : two bluetooth enabled fidget spinners exploded us states michigan alabama week fidget spinners used bluetooth connect phones play music built speakers exploded charging less minutes one spinner box instructions read made china \n",
      "실제 요약 : bluetooth enabled fidget spinners while charging \n",
      "예측 요약 :  new device to be made by bluetooth side of heart attack\n",
      "\n",
      "\n",
      "원문 : several unidentified people set ablaze door mosque uttar pradesh kasganj monday attempt disrupt communal harmony area police said comes year old shot dead violent clashes broke republic day area following bike rally officials said monitoring situation \n",
      "실제 요약 : door of mosque set ablaze by unidentified people in kasganj \n",
      "예측 요약 :  up man beaten up by mob in up to join violence\n",
      "\n",
      "\n",
      "원문 : billionaire gautam adani led adani group french energy giant total signed agreement develop liquefied natural gas terminals fuel retail stations across country total adani create joint venture build retail network service stations period years also develop terminal odisha \n",
      "실제 요약 : adani ties up with france total for plants fuel retail \n",
      "예측 요약 :  sebi to set up cr to fund for first time since\n",
      "\n",
      "\n",
      "원문 : gujarat chief minister vijay rupani wednesday tweeted upcoming sanjay leela bhansali directorial padmavati allowed release state elections could law order situation many sections opposed rupani added said foul play great culture tolerated \n",
      "실제 요약 : will not allow padmavati to release in gujarat cm rupani \n",
      "예측 요약 :  padmavati is not ready for padmavati release in gujarat cm vijay\n",
      "\n",
      "\n",
      "원문 : initial coin offering way startups raise money investors similar crowdfunding selling custom tokens token digital currency issued exchange legal tender cryptocurrencies like bitcoin value token depending issuing company performance \n",
      "실제 요약 : what is an coin offering \n",
      "예측 요약 :  zomato to sell meat delivery startup to make mn in pok\n",
      "\n",
      "\n",
      "원문 : website ryan international group wednesday hacked team kerala cyber warriors replaced homepage tribute seven year old murdered school gurugram branch criticising school management neglecting security website read school business responsibility put towards students \n",
      "실제 요약 : ryan group website hacked in tribute to murdered yr old \n",
      "예측 요약 :  fake news of fake news on fake news on kerala police\n",
      "\n",
      "\n",
      "원문 : congress workers detained police allegedly staging protest outside residence party chief rahul gandhi first list candidates upcoming rajasthan assembly elections released one party workers said request give tickets gave blood congress \n",
      "실제 요약 : congress workers protest outside rahul residence detained \n",
      "예측 요약 :  cong leader booked for asking rahul to rahul gandhi in telangana\n",
      "\n",
      "\n",
      "원문 : automobile manufacturer toyota unveil like concept car later month according toyota stands slab sides sharp corners shape metal company suggests car would offer front wheel engine sized litres \n",
      "실제 요약 : toyota to unveil like concept car \n",
      "예측 요약 :  virgin galactic to be auctioned for mn in virgin virgin galactic\n",
      "\n",
      "\n",
      "원문 : video surfaced online wherein saharanpur district magistrate pk pandey seen threatening slit panchayat executive officer throat negligence work video pandey could heard saying hum gala however officer react district magistrate remark \n",
      "실제 요약 : dm in up threatens to slit panchayat officer throat \n",
      "예측 요약 :  video of men who went viral poem on posting photo viral\n",
      "\n",
      "\n",
      "원문 : us securities exchange commission charged reddy resident us state georgia insider trading company hit data breach allegedly used non public information sell company assets made return initial investment company equifax terminated year old employment year long tenure \n",
      "실제 요약 : indian it manager charged with insider trading in us \n",
      "예측 요약 :  us firm to pay mn to settle us aid to us\n",
      "\n",
      "\n",
      "원문 : ex defence minister george fernandes passed away tuesday forced coca cola discontinue indian operations industries minister fernandes asked coca cola transfer ownership indian operations formula local company us company said transferring majority shares formula \n",
      "실제 요약 : ex defence minister once forced coca cola out of india \n",
      "예측 요약 :  who is the most expensive indian origin man on india trip\n",
      "\n",
      "\n",
      "원문 : fbi arrested man three months allegedly tweeted seizure flashing image journalist epilepsy tweet also said deserve seizure post upon searching perpetrator icloud account police found screenshot fake wikipedia page journalist date death listed december \n",
      "실제 요약 : man arrested for sending seizure causing tweet to journalist \n",
      "예측 요약 :  uk police probe into fake news of fake news on twitter\n",
      "\n",
      "\n",
      "원문 : arsenal goalkeeper announced retire end season year old four premier league titles four fa cups champions league europa league year spell chelsea moved arsenal went onto win another fa cup \n",
      "실제 요약 : arsenal goalkeeper to retire at the end of the season \n",
      "예측 요약 :  chelsea win their st ever ipl final for st time ever\n",
      "\n",
      "\n",
      "원문 : drone developed interactive features gesture robotics technology lets users control drone via hand gestures drone accompanied glove worn user order pilot drone drone also features altitude control allows users change maximum height reach \n",
      "실제 요약 : drone that can be controlled via hand gestures made \n",
      "예측 요약 :  ai powered drone that can detect drone that can detect users\n",
      "\n",
      "\n",
      "원문 : supreme court thursday said homosexuality matter privacy added section judgement needs set aside justice chandrachud said protection sexual orientation lies core fundamental rights ruling right privacy sc earlier verdict homosexuality likely challenged \n",
      "실제 요약 : homosexuality is matter of privacy supreme court \n",
      "예측 요약 :  right to privacy law to be used by fundamental rights sc\n",
      "\n",
      "\n",
      "원문 : government reversed decision issue orange coloured passports people requiring check amid criticism might lead discrimination segregation orange passports identify people file taxes educated beyond class comes kerala high court issued notice centre plea challenging proposal \n",
      "실제 요약 : government reverses plan to issue coloured passport \n",
      "예측 요약 :  govt asks govt to stop tv channels for the year report\n",
      "\n",
      "\n"
     ]
    }
   ],
   "source": [
    "for i in range(50, 100):\n",
    "    print(\"원문 :\", seq2text(encoder_input_test[i]))\n",
    "    print(\"실제 요약 :\", seq2summary(decoder_input_test[i]))\n",
    "    print(\"예측 요약 :\", decode_sequence(encoder_input_test[i].reshape(1, text_max_len)))\n",
    "    print(\"\\n\")"
   ]
  },
  {
   "cell_type": "markdown",
   "id": "unnecessary-airfare",
   "metadata": {},
   "source": [
    "## work(6) : extractive summarization"
   ]
  },
  {
   "cell_type": "code",
   "execution_count": 174,
   "id": "focused-kitchen",
   "metadata": {},
   "outputs": [],
   "source": [
    "import requests\n",
    "from summa.summarizer import summarize"
   ]
  },
  {
   "cell_type": "code",
   "execution_count": 191,
   "id": "casual-northwest",
   "metadata": {},
   "outputs": [],
   "source": [
    "import urllib.request\n",
    "urllib.request.urlretrieve(\"https://raw.githubusercontent.com/sunnysai12345/News_Summary/master/news_summary_more.csv\", filename=\"news_summary_more.csv\")\n",
    "extractive_data = pd.read_csv('news_summary_more.csv', encoding='iso-8859-1')"
   ]
  },
  {
   "cell_type": "code",
   "execution_count": 192,
   "id": "operational-tanzania",
   "metadata": {},
   "outputs": [
    {
     "data": {
      "text/html": [
       "<div>\n",
       "<style scoped>\n",
       "    .dataframe tbody tr th:only-of-type {\n",
       "        vertical-align: middle;\n",
       "    }\n",
       "\n",
       "    .dataframe tbody tr th {\n",
       "        vertical-align: top;\n",
       "    }\n",
       "\n",
       "    .dataframe thead th {\n",
       "        text-align: right;\n",
       "    }\n",
       "</style>\n",
       "<table border=\"1\" class=\"dataframe\">\n",
       "  <thead>\n",
       "    <tr style=\"text-align: right;\">\n",
       "      <th></th>\n",
       "      <th>headlines</th>\n",
       "      <th>text</th>\n",
       "    </tr>\n",
       "  </thead>\n",
       "  <tbody>\n",
       "    <tr>\n",
       "      <th>0</th>\n",
       "      <td>upGrad learner switches to career in ML &amp; Al w...</td>\n",
       "      <td>Saurav Kant, an alumnus of upGrad and IIIT-B's...</td>\n",
       "    </tr>\n",
       "    <tr>\n",
       "      <th>1</th>\n",
       "      <td>Delhi techie wins free food from Swiggy for on...</td>\n",
       "      <td>Kunal Shah's credit card bill payment platform...</td>\n",
       "    </tr>\n",
       "    <tr>\n",
       "      <th>2</th>\n",
       "      <td>New Zealand end Rohit Sharma-led India's 12-ma...</td>\n",
       "      <td>New Zealand defeated India by 8 wickets in the...</td>\n",
       "    </tr>\n",
       "    <tr>\n",
       "      <th>3</th>\n",
       "      <td>Aegon life iTerm insurance plan helps customer...</td>\n",
       "      <td>With Aegon Life iTerm Insurance plan, customer...</td>\n",
       "    </tr>\n",
       "    <tr>\n",
       "      <th>4</th>\n",
       "      <td>Have known Hirani for yrs, what if MeToo claim...</td>\n",
       "      <td>Speaking about the sexual harassment allegatio...</td>\n",
       "    </tr>\n",
       "  </tbody>\n",
       "</table>\n",
       "</div>"
      ],
      "text/plain": [
       "                                           headlines  \\\n",
       "0  upGrad learner switches to career in ML & Al w...   \n",
       "1  Delhi techie wins free food from Swiggy for on...   \n",
       "2  New Zealand end Rohit Sharma-led India's 12-ma...   \n",
       "3  Aegon life iTerm insurance plan helps customer...   \n",
       "4  Have known Hirani for yrs, what if MeToo claim...   \n",
       "\n",
       "                                                text  \n",
       "0  Saurav Kant, an alumnus of upGrad and IIIT-B's...  \n",
       "1  Kunal Shah's credit card bill payment platform...  \n",
       "2  New Zealand defeated India by 8 wickets in the...  \n",
       "3  With Aegon Life iTerm Insurance plan, customer...  \n",
       "4  Speaking about the sexual harassment allegatio...  "
      ]
     },
     "execution_count": 192,
     "metadata": {},
     "output_type": "execute_result"
    }
   ],
   "source": [
    "extractive_data.head()"
   ]
  },
  {
   "cell_type": "code",
   "execution_count": 195,
   "id": "nuclear-marina",
   "metadata": {},
   "outputs": [
    {
     "data": {
      "text/plain": [
       "\"Saurav Kant, an alumnus of upGrad and IIIT-B's PG Program in Machine learning and Artificial Intelligence, was a Sr Systems Engineer at Infosys with almost 5 years of work experience. The program and upGrad's 360-degree career support helped him transition to a Data Scientist at Tech Mahindra with 90% salary hike. upGrad's Online Power Learning has powered 3 lakh+ careers.\""
      ]
     },
     "execution_count": 195,
     "metadata": {},
     "output_type": "execute_result"
    }
   ],
   "source": [
    "extractive_data.loc[0,'text']"
   ]
  },
  {
   "cell_type": "code",
   "execution_count": 216,
   "id": "accredited-grove",
   "metadata": {},
   "outputs": [
    {
     "name": "stdout",
     "output_type": "stream",
     "text": [
      "original text :  Saurav Kant, an alumnus of upGrad and IIIT-B's PG Program in Machine learning and Artificial Intelligence, was a Sr Systems Engineer at Infosys with almost 5 years of work experience. The program and upGrad's 360-degree career support helped him transition to a Data Scientist at Tech Mahindra with 90% salary hike. upGrad's Online Power Learning has powered 3 lakh+ careers.\n",
      "headlines :  upGrad learner switches to career in ML & Al with 90% salary hike\n",
      "extractive summarization :  The program and upGrad's 360-degree career support helped him transition to a Data Scientist at Tech Mahindra with 90% salary hike.\n",
      "upGrad's Online Power Learning has powered 3 lakh+ careers.\n",
      "====================================================================================\n",
      "original text :  Kunal Shah's credit card bill payment platform, CRED, gave users a chance to win free food from Swiggy for one year. Pranav Kaushik, a Delhi techie, bagged this reward after spending 2000 CRED coins. Users get one CRED coin per rupee of bill paid, which can be used to avail rewards from brands like Ixigo, BookMyShow, UberEats, Cult.Fit and more.\n",
      "headlines :  Delhi techie wins free food from Swiggy for one year on CRED\n",
      "extractive summarization :  Users get one CRED coin per rupee of bill paid, which can be used to avail rewards from brands like Ixigo, BookMyShow, UberEats, Cult.Fit and more.\n",
      "====================================================================================\n",
      "original text :  New Zealand defeated India by 8 wickets in the fourth ODI at Hamilton on Thursday to win their first match of the five-match ODI series. India lost an international match under Rohit Sharma's captaincy after 12 consecutive victories dating back to March 2018. The match witnessed India getting all out for 92, their seventh lowest total in ODI cricket history.\n",
      "headlines :  New Zealand end Rohit Sharma-led India's 12-match winning streak\n",
      "extractive summarization :  The match witnessed India getting all out for 92, their seventh lowest total in ODI cricket history.\n",
      "====================================================================================\n",
      "original text :  With Aegon Life iTerm Insurance plan, customers can enjoy tax benefits on your premiums paid and save up to Ã¢ÂÂ¹46,800^ on taxes. The plan provides life cover up to the age of 100 years. Also, customers have options to insure against Critical Illnesses, Disability and Accidental Death Benefit Rider with a life cover up to the age of 80 years.\n",
      "headlines :  Aegon life iTerm insurance plan helps customers save tax\n",
      "extractive summarization :  Also, customers have options to insure against Critical Illnesses, Disability and Accidental Death Benefit Rider with a life cover up to the age of 80 years.\n",
      "====================================================================================\n",
      "original text :  Speaking about the sexual harassment allegations against Rajkumar Hirani, Sonam Kapoor said, \"I've known Hirani for many years...What if it's not true, the [#MeToo] movement will get derailed.\" \"In the #MeToo movement, I always believe a woman. But in this case, we need to reserve our judgment,\" she added. Hirani has been accused by an assistant who worked in 'Sanju'.\n",
      "headlines :  Have known Hirani for yrs, what if MeToo claims are not true: Sonam\n",
      "extractive summarization :  Speaking about the sexual harassment allegations against Rajkumar Hirani, Sonam Kapoor said, \"I've known Hirani for many years...What if it's not true, the [#MeToo] movement will get derailed.\" \"In the #MeToo movement, I always believe a woman.\n",
      "====================================================================================\n",
      "original text :  Pakistani singer Rahat Fateh Ali Khan has denied receiving any notice from the Enforcement Directorate over allegedly smuggling foreign currency out of India. \"It would have been better if the authorities would have served the notice first if any and then publicised this,\" reads a press release issued on behalf of Rahat. The statement further called the allegation \"bizarre\".\n",
      "headlines :  Rahat Fateh Ali Khan denies getting notice for smuggling currency\n",
      "extractive summarization :  Pakistani singer Rahat Fateh Ali Khan has denied receiving any notice from the Enforcement Directorate over allegedly smuggling foreign currency out of India.\n",
      "====================================================================================\n",
      "original text :  India recorded their lowest ODI total in New Zealand after getting all out for 92 runs in 30.5 overs in the fourth ODI at Hamilton on Thursday. Seven of India's batsmen were dismissed for single-digit scores, while their number ten batsman Yuzvendra Chahal top-scored with 18*(37). India's previous lowest ODI total in New Zealand was 108.\n",
      "headlines :  India get all out for 92, their lowest ODI total in New Zealand\n",
      "extractive summarization :  India's previous lowest ODI total in New Zealand was 108.\n",
      "====================================================================================\n",
      "original text :  Weeks after ex-CBI Director Alok Verma told the Department of Personnel and Training to consider him retired, the Home Ministry asked him to join work on the last day of his fixed tenure as Director on Thursday. The ministry directed him to immediately join as DG, Fire Services, the post he was transferred to after his removal as CBI chief.\n",
      "headlines :  Govt directs Alok Verma to join work 1 day before his retirement\n",
      "extractive summarization :  Weeks after ex-CBI Director Alok Verma told the Department of Personnel and Training to consider him retired, the Home Ministry asked him to join work on the last day of his fixed tenure as Director on Thursday.\n",
      "====================================================================================\n",
      "original text :  Andhra Pradesh CM N Chandrababu Naidu has said, \"When I met then US President Bill Clinton, I addressed him as Mr Clinton, not as 'sir'. (PM Narendra) Modi is my junior in politics...I addressed him as sir 10 times.\" \"I did this...to satisfy his ego in the hope that he will do justice to the state,\" he added.\n",
      "headlines :  Called PM Modi 'sir' 10 times to satisfy his ego: Andhra CM\n",
      "extractive summarization :  Andhra Pradesh CM N Chandrababu Naidu has said, \"When I met then US President Bill Clinton, I addressed him as Mr Clinton, not as 'sir'.\n",
      "====================================================================================\n",
      "original text :  Congress candidate Shafia Zubair won the Ramgarh Assembly seat in Rajasthan, by defeating BJP's Sukhwant Singh with a margin of 12,228 votes in the bypoll. With this victory, Congress has taken its total to 100 seats in the 200-member assembly. The election to the Ramgarh seat was delayed due to the death of sitting MLA and BSP candidate Laxman Singh.\n",
      "headlines :  Cong wins Ramgarh bypoll in Rajasthan, takes total to 100 seats\n",
      "extractive summarization :  Congress candidate Shafia Zubair won the Ramgarh Assembly seat in Rajasthan, by defeating BJP's Sukhwant Singh with a margin of 12,228 votes in the bypoll.\n",
      "====================================================================================\n",
      "original text :  Two minor cousins in Uttar Pradesh's Gorakhpur were allegedly repeatedly burnt with tongs and forced to eat human excreta by their family for being friends with two boys from the same school. The cousins revealed their ordeal to the police and Child Welfare Committee after being brought back to Gorakhpur from Nepal, where they had fled to escape the torture.\n",
      "headlines :  UP cousins fed human excreta for friendship with boys\n",
      "extractive summarization :  Two minor cousins in Uttar Pradesh's Gorakhpur were allegedly repeatedly burnt with tongs and forced to eat human excreta by their family for being friends with two boys from the same school.\n",
      "====================================================================================\n"
     ]
    }
   ],
   "source": [
    "sliced_10_data = extractive_data.loc[:10,]\n",
    "for idx in np.arange(len(sliced_10_data)):\n",
    "    print(\"original text : \", sliced_10_data.loc[idx,'text'])\n",
    "    print(\"headlines : \", sliced_10_data.loc[idx,'headlines'])\n",
    "    print(\"extractive summarization : \", summarize(sliced_10_data.loc[idx,'text'], words=20))\n",
    "    print(\"====================================================================================\")"
   ]
  },
  {
   "cell_type": "markdown",
   "id": "minor-socket",
   "metadata": {},
   "source": [
    "## anlysis of result : \n",
    "\n",
    "이번 프로젝트에서 summarzation을 구현하기 위해 seq2seq를 이용하여 문장에 대해 encoder,decoder를 설계하였다.seq2seq는 한 문장을 인코더에 입력 받으면 decoder에서 몇개의 단어로 요약해주는 기능을 수행한다. 하지만 모든 hidden state가 고려되지 않는 한계성에 대해 이번 프로젝트에서는 더 적절한 단어들을 고려하여 요약의 결과 성능을 내기 위해 attention mechanism을 이용하여 각 hidden state의 weight의 동적화로 적절한 단어들을 요약하는데 성능의 개선을 수행하였다. attention mechanism을 이용한 abstractive한 결과물들은 어느정도 문법에 자연스러운 결과물들을 보여주었다. headline과 비교하였을 때 abstrative 결과들은 입력된 텍스트의 core적인 요약에서 몇몇 벗어난 결과들을 보여주지만 샘플10개에서 대체적으로 headline과 비슷한 수준의 자연스러운 문법과 내용들을 담고 있다. 이는 원문에서 몇가지 단어들을 뽑아 extractive한 결과와 비교해볼 때 더욱 두드러진다. extractive summarization의 결과들은 문법에 대해 어느정도 괜찮은 성능을 보여주지만 \"핵심에 대한 요약\"의 관점에서 보면 전혀 좋은 성능을 보여준다고 하기 어렵다. 몇몇 문장, 단어들을 그대로 뽑아 이질감이 들 정도로 짜집기한 결과들을 보여주며 결과를 토대로 내용에 대한 문맥을 짐작하기란 어려워보인다. 따라서 요약의 성능은 프로젝트 시작 전에 예상했듯 abstractive한 summarization이 더 좋은 결과를 내었다고 결론지을 수 있다.\n"
   ]
  },
  {
   "cell_type": "markdown",
   "id": "warming-socket",
   "metadata": {},
   "source": [
    "## Limits :\n",
    "이번 프로젝트를 수행하면서 LSTM, RNN, seq2seq, attention mechanism의 각각의 구체적인 이해가 부족한 상태에서 수행하였다.<br>\n",
    "attetion mechanism을 적용하기 전 적용하였을 때 동일한 조건에서 얼마나 성능의 차이를 보이는지 확인했어야 했다.<br>\n",
    "모델의 성능 개선이 필요했다.\n"
   ]
  },
  {
   "cell_type": "markdown",
   "id": "interstate-momentum",
   "metadata": {},
   "source": [
    "## In my opinion\n",
    "\n",
    "사람의 언어는 단순히 language로 encoding된 것들을 나열하지 않는다. 각 단어들이 뜻하는 의미로 유사성의 거리가 있으며 대체로 보편적이다. 어떤 사람에게 물어보아도 사랑이라는 단어와 애정이라는 단어는 매우 유사한 단어라고 생각한다. 이러한 유사함은 단어와 단어 뿐만 아니라 문법과 문맥에도 적용되어 단순 나열이 아닌 패턴을 형성한다. \"나는 밥을 먹었다\", \"너는 어디 가느냐\" 등과 같은 문장들은 자주 쓰는 패턴에 속한다. 이러한 패턴들은 사람이 빠르게 의미를 파악할 수 있게 하며 의사소통에서 바디랭귀지 보다 매우 효과적이다. \n",
    "\n",
    "이러한 문장구성, 문맥의 이해의 관점에서는 이번 프로젝트에서의 모델은 6살짜리 어린이와 버금가는 요약의 성능을 보여주었다고 생각한다. 이 모델은 단어들이 뜻하는 의미들을 사람보다 덜 학습되어 있고 단어들의 빈도에 의존하는 경향성이 있다. 이러한 문제는 모델 성능이 생각만큼 뛰어나지 않는 결과물들을 보여준 것인지 모른다."
   ]
  }
 ],
 "metadata": {
  "kernelspec": {
   "display_name": "Python 3",
   "language": "python",
   "name": "python3"
  },
  "language_info": {
   "codemirror_mode": {
    "name": "ipython",
    "version": 3
   },
   "file_extension": ".py",
   "mimetype": "text/x-python",
   "name": "python",
   "nbconvert_exporter": "python",
   "pygments_lexer": "ipython3",
   "version": "3.7.9"
  }
 },
 "nbformat": 4,
 "nbformat_minor": 5
}
